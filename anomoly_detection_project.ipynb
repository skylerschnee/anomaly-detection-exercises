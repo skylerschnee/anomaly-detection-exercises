{
 "cells": [
  {
   "cell_type": "code",
   "execution_count": 273,
   "id": "cbbff9e3",
   "metadata": {},
   "outputs": [],
   "source": [
    "import matplotlib.pyplot as plt\n",
    "import numpy as np\n",
    "import pandas as pd\n",
    "import seaborn as sns"
   ]
  },
  {
   "cell_type": "code",
   "execution_count": 99,
   "id": "a5fd6486",
   "metadata": {},
   "outputs": [
    {
     "name": "stderr",
     "output_type": "stream",
     "text": [
      "/var/folders/8k/klwd85kj0d3_n66z9ht0xg7r0000gn/T/ipykernel_4400/2647315136.py:2: ParserWarning: Falling back to the 'python' engine because the 'c' engine does not support regex separators (separators > 1 char and different from '\\s+' are interpreted as regex); you can avoid this warning by specifying engine='python'.\n",
      "  df = pd.read_csv(\"anonymized-curriculum-access.txt\",\n"
     ]
    },
    {
     "data": {
      "text/html": [
       "<div>\n",
       "<style scoped>\n",
       "    .dataframe tbody tr th:only-of-type {\n",
       "        vertical-align: middle;\n",
       "    }\n",
       "\n",
       "    .dataframe tbody tr th {\n",
       "        vertical-align: top;\n",
       "    }\n",
       "\n",
       "    .dataframe thead th {\n",
       "        text-align: right;\n",
       "    }\n",
       "</style>\n",
       "<table border=\"1\" class=\"dataframe\">\n",
       "  <thead>\n",
       "    <tr style=\"text-align: right;\">\n",
       "      <th></th>\n",
       "      <th>endpoint</th>\n",
       "      <th>user_id</th>\n",
       "      <th>cohort_id</th>\n",
       "      <th>source_ip</th>\n",
       "    </tr>\n",
       "    <tr>\n",
       "      <th>datetime</th>\n",
       "      <th></th>\n",
       "      <th></th>\n",
       "      <th></th>\n",
       "      <th></th>\n",
       "    </tr>\n",
       "  </thead>\n",
       "  <tbody>\n",
       "    <tr>\n",
       "      <th>2018-01-26 09:55:03</th>\n",
       "      <td>/</td>\n",
       "      <td>1</td>\n",
       "      <td>8.0</td>\n",
       "      <td>97.105.19.61</td>\n",
       "    </tr>\n",
       "    <tr>\n",
       "      <th>2018-01-26 09:56:02</th>\n",
       "      <td>java-ii</td>\n",
       "      <td>1</td>\n",
       "      <td>8.0</td>\n",
       "      <td>97.105.19.61</td>\n",
       "    </tr>\n",
       "    <tr>\n",
       "      <th>2018-01-26 09:56:05</th>\n",
       "      <td>java-ii/object-oriented-programming</td>\n",
       "      <td>1</td>\n",
       "      <td>8.0</td>\n",
       "      <td>97.105.19.61</td>\n",
       "    </tr>\n",
       "    <tr>\n",
       "      <th>2018-01-26 09:56:06</th>\n",
       "      <td>slides/object_oriented_programming</td>\n",
       "      <td>1</td>\n",
       "      <td>8.0</td>\n",
       "      <td>97.105.19.61</td>\n",
       "    </tr>\n",
       "    <tr>\n",
       "      <th>2018-01-26 09:56:24</th>\n",
       "      <td>javascript-i/conditionals</td>\n",
       "      <td>2</td>\n",
       "      <td>22.0</td>\n",
       "      <td>97.105.19.61</td>\n",
       "    </tr>\n",
       "  </tbody>\n",
       "</table>\n",
       "</div>"
      ],
      "text/plain": [
       "                                                endpoint  user_id  cohort_id  \\\n",
       "datetime                                                                       \n",
       "2018-01-26 09:55:03                                    /        1        8.0   \n",
       "2018-01-26 09:56:02                              java-ii        1        8.0   \n",
       "2018-01-26 09:56:05  java-ii/object-oriented-programming        1        8.0   \n",
       "2018-01-26 09:56:06   slides/object_oriented_programming        1        8.0   \n",
       "2018-01-26 09:56:24            javascript-i/conditionals        2       22.0   \n",
       "\n",
       "                        source_ip  \n",
       "datetime                           \n",
       "2018-01-26 09:55:03  97.105.19.61  \n",
       "2018-01-26 09:56:02  97.105.19.61  \n",
       "2018-01-26 09:56:05  97.105.19.61  \n",
       "2018-01-26 09:56:06  97.105.19.61  \n",
       "2018-01-26 09:56:24  97.105.19.61  "
      ]
     },
     "execution_count": 99,
     "metadata": {},
     "output_type": "execute_result"
    }
   ],
   "source": [
    "colnames = ['date', 'time', 'endpoint', 'user_id', 'cohort_id', 'source_ip']\n",
    "df = pd.read_csv(\"anonymized-curriculum-access.txt\", \n",
    "                 sep=\"\\s\", \n",
    "                 header=None, \n",
    "                 names = colnames, \n",
    "                 usecols=[0, 1, 2, 3, 4, 5])\n",
    "df['datetime'] = df.date + ' ' + df.time\n",
    "df.datetime = pd.to_datetime(df.datetime)\n",
    "df = df.set_index(df.datetime)\n",
    "df = df.drop(columns = ['date', 'time', 'datetime'])\n",
    "df.head()"
   ]
  },
  {
   "cell_type": "markdown",
   "id": "7eb534e7",
   "metadata": {},
   "source": [
    "# Question 4\n",
    "\n",
    "### Is there any suspicious activity, such as users/machines/etc accessing the curriculum who shouldn’t be? Does it appear that any web-scraping is happening? Are there any suspicious IP addresses?"
   ]
  },
  {
   "cell_type": "code",
   "execution_count": 100,
   "id": "80889d40",
   "metadata": {},
   "outputs": [],
   "source": [
    "df['day_of_week'] = df.index.day_name()"
   ]
  },
  {
   "cell_type": "code",
   "execution_count": 124,
   "id": "c852a6f4",
   "metadata": {},
   "outputs": [],
   "source": [
    "weekend_pulls = df.loc[\n",
    "    (df.day_of_week == 'Saturday') | (df.day_of_week == 'Sunday')]"
   ]
  },
  {
   "cell_type": "code",
   "execution_count": 125,
   "id": "6ce1e01e",
   "metadata": {},
   "outputs": [
    {
     "data": {
      "text/html": [
       "<div>\n",
       "<style scoped>\n",
       "    .dataframe tbody tr th:only-of-type {\n",
       "        vertical-align: middle;\n",
       "    }\n",
       "\n",
       "    .dataframe tbody tr th {\n",
       "        vertical-align: top;\n",
       "    }\n",
       "\n",
       "    .dataframe thead th {\n",
       "        text-align: right;\n",
       "    }\n",
       "</style>\n",
       "<table border=\"1\" class=\"dataframe\">\n",
       "  <thead>\n",
       "    <tr style=\"text-align: right;\">\n",
       "      <th></th>\n",
       "      <th>endpoint</th>\n",
       "      <th>user_id</th>\n",
       "      <th>cohort_id</th>\n",
       "      <th>source_ip</th>\n",
       "      <th>day_of_week</th>\n",
       "    </tr>\n",
       "    <tr>\n",
       "      <th>datetime</th>\n",
       "      <th></th>\n",
       "      <th></th>\n",
       "      <th></th>\n",
       "      <th></th>\n",
       "      <th></th>\n",
       "    </tr>\n",
       "  </thead>\n",
       "  <tbody>\n",
       "    <tr>\n",
       "      <th>2018-01-27 00:01:00</th>\n",
       "      <td>/</td>\n",
       "      <td>23</td>\n",
       "      <td>22.0</td>\n",
       "      <td>108.65.244.91</td>\n",
       "      <td>Saturday</td>\n",
       "    </tr>\n",
       "    <tr>\n",
       "      <th>2018-01-27 00:21:30</th>\n",
       "      <td>/</td>\n",
       "      <td>23</td>\n",
       "      <td>22.0</td>\n",
       "      <td>108.65.244.91</td>\n",
       "      <td>Saturday</td>\n",
       "    </tr>\n",
       "    <tr>\n",
       "      <th>2018-01-27 00:22:32</th>\n",
       "      <td>javascript-i/conditionals</td>\n",
       "      <td>23</td>\n",
       "      <td>22.0</td>\n",
       "      <td>108.65.244.91</td>\n",
       "      <td>Saturday</td>\n",
       "    </tr>\n",
       "    <tr>\n",
       "      <th>2018-01-27 00:39:16</th>\n",
       "      <td>spring/fundamentals/services</td>\n",
       "      <td>15</td>\n",
       "      <td>21.0</td>\n",
       "      <td>174.207.5.52</td>\n",
       "      <td>Saturday</td>\n",
       "    </tr>\n",
       "    <tr>\n",
       "      <th>2018-01-27 00:41:15</th>\n",
       "      <td>/</td>\n",
       "      <td>15</td>\n",
       "      <td>21.0</td>\n",
       "      <td>174.207.5.52</td>\n",
       "      <td>Saturday</td>\n",
       "    </tr>\n",
       "  </tbody>\n",
       "</table>\n",
       "</div>"
      ],
      "text/plain": [
       "                                         endpoint  user_id  cohort_id  \\\n",
       "datetime                                                                \n",
       "2018-01-27 00:01:00                             /       23       22.0   \n",
       "2018-01-27 00:21:30                             /       23       22.0   \n",
       "2018-01-27 00:22:32     javascript-i/conditionals       23       22.0   \n",
       "2018-01-27 00:39:16  spring/fundamentals/services       15       21.0   \n",
       "2018-01-27 00:41:15                             /       15       21.0   \n",
       "\n",
       "                         source_ip day_of_week  \n",
       "datetime                                        \n",
       "2018-01-27 00:01:00  108.65.244.91    Saturday  \n",
       "2018-01-27 00:21:30  108.65.244.91    Saturday  \n",
       "2018-01-27 00:22:32  108.65.244.91    Saturday  \n",
       "2018-01-27 00:39:16   174.207.5.52    Saturday  \n",
       "2018-01-27 00:41:15   174.207.5.52    Saturday  "
      ]
     },
     "execution_count": 125,
     "metadata": {},
     "output_type": "execute_result"
    }
   ],
   "source": [
    "weekend_pulls.head()"
   ]
  },
  {
   "cell_type": "code",
   "execution_count": 131,
   "id": "61539d07",
   "metadata": {},
   "outputs": [
    {
     "data": {
      "text/plain": [
       "source_ip\n",
       "192.171.117.210    2496\n",
       "70.122.40.62        810\n",
       "70.112.179.142      762\n",
       "172.124.67.93       723\n",
       "136.50.32.151       710\n",
       "                   ... \n",
       "12.71.182.66          1\n",
       "129.115.195.10        1\n",
       "66.69.37.36           1\n",
       "174.246.135.44        1\n",
       "50.30.92.29           1\n",
       "Length: 2181, dtype: int64"
      ]
     },
     "execution_count": 131,
     "metadata": {},
     "output_type": "execute_result"
    }
   ],
   "source": [
    "weekend_pulls.groupby(['source_ip']).size().sort_values(ascending=False)"
   ]
  },
  {
   "cell_type": "code",
   "execution_count": null,
   "id": "46ed1116",
   "metadata": {},
   "outputs": [],
   "source": [
    "sus_ip = df.loc[df.source_ip == '192.171.117.210']"
   ]
  },
  {
   "cell_type": "code",
   "execution_count": 144,
   "id": "5b3dc29e",
   "metadata": {},
   "outputs": [
    {
     "data": {
      "text/plain": [
       "306"
      ]
     },
     "execution_count": 144,
     "metadata": {},
     "output_type": "execute_result"
    }
   ],
   "source": [
    "len(sus_ip.user_id.unique())"
   ]
  },
  {
   "cell_type": "code",
   "execution_count": 145,
   "id": "41e23279",
   "metadata": {},
   "outputs": [
    {
     "data": {
      "text/plain": [
       "32"
      ]
     },
     "execution_count": 145,
     "metadata": {},
     "output_type": "execute_result"
    }
   ],
   "source": [
    "len(sus_ip.cohort_id.unique())"
   ]
  },
  {
   "cell_type": "markdown",
   "id": "79a39526",
   "metadata": {},
   "source": [
    "The IP address '192.171.117.210' has tons of pulls from different users and cohorts, but this is not CodeUp's IP... This IP also has more pulls than any other on the weekends, so the only thing that would make sense is a place that students would gather on the weekend and access the cirriculum, like geekdom. I would like to raise a yellow flag here until we can confirm if this is Geekdom's IP. "
   ]
  },
  {
   "cell_type": "code",
   "execution_count": 148,
   "id": "57c83091",
   "metadata": {},
   "outputs": [
    {
     "data": {
      "text/plain": [
       "917.6585117227319"
      ]
     },
     "execution_count": 148,
     "metadata": {},
     "output_type": "execute_result"
    }
   ],
   "source": [
    "df.groupby(['user_id']).size().mean()"
   ]
  },
  {
   "cell_type": "code",
   "execution_count": 158,
   "id": "bb632486",
   "metadata": {},
   "outputs": [
    {
     "data": {
      "text/plain": [
       "user_id\n",
       "11     17913\n",
       "64     16347\n",
       "53     12329\n",
       "314     7783\n",
       "1       7404\n",
       "495     6451\n",
       "581     6434\n",
       "428     5897\n",
       "344     5460\n",
       "248     5075\n",
       "570     4584\n",
       "315     4510\n",
       "211     4227\n",
       "423     3804\n",
       "555     3687\n",
       "545     3528\n",
       "685     3522\n",
       "524     3512\n",
       "485     3268\n",
       "671     3241\n",
       "346     3182\n",
       "566     3163\n",
       "521     3052\n",
       "595     3050\n",
       "760     3019\n",
       "dtype: int64"
      ]
     },
     "execution_count": 158,
     "metadata": {},
     "output_type": "execute_result"
    }
   ],
   "source": [
    "df.groupby(['user_id']).size().sort_values(\n",
    "    ascending=False).head(25)"
   ]
  },
  {
   "cell_type": "code",
   "execution_count": 170,
   "id": "40d55d94",
   "metadata": {},
   "outputs": [],
   "source": [
    "sus_user_314 = df.loc[df.user_id == 314]"
   ]
  },
  {
   "cell_type": "code",
   "execution_count": 174,
   "id": "e25e3049",
   "metadata": {},
   "outputs": [
    {
     "data": {
      "text/plain": [
       "7783"
      ]
     },
     "execution_count": 174,
     "metadata": {},
     "output_type": "execute_result"
    }
   ],
   "source": [
    "len(sus_user_314)"
   ]
  },
  {
   "cell_type": "code",
   "execution_count": 166,
   "id": "48c9cb6f",
   "metadata": {},
   "outputs": [
    {
     "data": {
      "text/plain": [
       "28.0    4617\n",
       "17.0    3166\n",
       "Name: cohort_id, dtype: int64"
      ]
     },
     "execution_count": 166,
     "metadata": {},
     "output_type": "execute_result"
    }
   ],
   "source": [
    "sus_user_314.cohort_id.value_counts()"
   ]
  },
  {
   "cell_type": "code",
   "execution_count": 167,
   "id": "34f9591a",
   "metadata": {},
   "outputs": [
    {
     "data": {
      "text/plain": [
       "Timedelta('815 days 11:04:22')"
      ]
     },
     "execution_count": 167,
     "metadata": {},
     "output_type": "execute_result"
    }
   ],
   "source": [
    "sus_user_314.index.max() - sus_user.index.min()"
   ]
  },
  {
   "cell_type": "markdown",
   "id": "4ff70f47",
   "metadata": {},
   "source": [
    "- This user has a cirriculum access time delta of 815 days between 2 cohorts, accesing the cirriculum almost 8000 times - the fourth most of any user. "
   ]
  },
  {
   "cell_type": "code",
   "execution_count": 172,
   "id": "5f5546a5",
   "metadata": {},
   "outputs": [],
   "source": [
    "sus_user_53 = df.loc[df.user_id == 53]"
   ]
  },
  {
   "cell_type": "code",
   "execution_count": 173,
   "id": "8b894cec",
   "metadata": {},
   "outputs": [
    {
     "data": {
      "text/plain": [
       "14.0    8197\n",
       "28.0    4132\n",
       "Name: cohort_id, dtype: int64"
      ]
     },
     "execution_count": 173,
     "metadata": {},
     "output_type": "execute_result"
    }
   ],
   "source": [
    "sus_user_53.cohort_id.value_counts()"
   ]
  },
  {
   "cell_type": "code",
   "execution_count": null,
   "id": "0f428982",
   "metadata": {},
   "outputs": [],
   "source": []
  },
  {
   "cell_type": "code",
   "execution_count": 178,
   "id": "94bad571",
   "metadata": {},
   "outputs": [
    {
     "data": {
      "text/plain": [
       "28.0    5787\n",
       "8.0     1617\n",
       "Name: cohort_id, dtype: int64"
      ]
     },
     "execution_count": 178,
     "metadata": {},
     "output_type": "execute_result"
    }
   ],
   "source": [
    "df.loc[df.user_id == 1].cohort_id.value_counts()"
   ]
  },
  {
   "cell_type": "code",
   "execution_count": 179,
   "id": "a99f940a",
   "metadata": {},
   "outputs": [
    {
     "data": {
      "text/html": [
       "<div>\n",
       "<style scoped>\n",
       "    .dataframe tbody tr th:only-of-type {\n",
       "        vertical-align: middle;\n",
       "    }\n",
       "\n",
       "    .dataframe tbody tr th {\n",
       "        vertical-align: top;\n",
       "    }\n",
       "\n",
       "    .dataframe thead th {\n",
       "        text-align: right;\n",
       "    }\n",
       "</style>\n",
       "<table border=\"1\" class=\"dataframe\">\n",
       "  <thead>\n",
       "    <tr style=\"text-align: right;\">\n",
       "      <th></th>\n",
       "      <th>endpoint</th>\n",
       "      <th>user_id</th>\n",
       "      <th>cohort_id</th>\n",
       "      <th>source_ip</th>\n",
       "      <th>day_of_week</th>\n",
       "    </tr>\n",
       "    <tr>\n",
       "      <th>datetime</th>\n",
       "      <th></th>\n",
       "      <th></th>\n",
       "      <th></th>\n",
       "      <th></th>\n",
       "      <th></th>\n",
       "    </tr>\n",
       "  </thead>\n",
       "  <tbody>\n",
       "    <tr>\n",
       "      <th>2018-01-26 09:55:03</th>\n",
       "      <td>/</td>\n",
       "      <td>1</td>\n",
       "      <td>8.0</td>\n",
       "      <td>97.105.19.61</td>\n",
       "      <td>Friday</td>\n",
       "    </tr>\n",
       "    <tr>\n",
       "      <th>2018-01-26 09:56:02</th>\n",
       "      <td>java-ii</td>\n",
       "      <td>1</td>\n",
       "      <td>8.0</td>\n",
       "      <td>97.105.19.61</td>\n",
       "      <td>Friday</td>\n",
       "    </tr>\n",
       "    <tr>\n",
       "      <th>2018-01-26 09:56:05</th>\n",
       "      <td>java-ii/object-oriented-programming</td>\n",
       "      <td>1</td>\n",
       "      <td>8.0</td>\n",
       "      <td>97.105.19.61</td>\n",
       "      <td>Friday</td>\n",
       "    </tr>\n",
       "    <tr>\n",
       "      <th>2018-01-26 09:56:06</th>\n",
       "      <td>slides/object_oriented_programming</td>\n",
       "      <td>1</td>\n",
       "      <td>8.0</td>\n",
       "      <td>97.105.19.61</td>\n",
       "      <td>Friday</td>\n",
       "    </tr>\n",
       "    <tr>\n",
       "      <th>2018-01-26 09:56:24</th>\n",
       "      <td>javascript-i/conditionals</td>\n",
       "      <td>2</td>\n",
       "      <td>22.0</td>\n",
       "      <td>97.105.19.61</td>\n",
       "      <td>Friday</td>\n",
       "    </tr>\n",
       "  </tbody>\n",
       "</table>\n",
       "</div>"
      ],
      "text/plain": [
       "                                                endpoint  user_id  cohort_id  \\\n",
       "datetime                                                                       \n",
       "2018-01-26 09:55:03                                    /        1        8.0   \n",
       "2018-01-26 09:56:02                              java-ii        1        8.0   \n",
       "2018-01-26 09:56:05  java-ii/object-oriented-programming        1        8.0   \n",
       "2018-01-26 09:56:06   slides/object_oriented_programming        1        8.0   \n",
       "2018-01-26 09:56:24            javascript-i/conditionals        2       22.0   \n",
       "\n",
       "                        source_ip day_of_week  \n",
       "datetime                                       \n",
       "2018-01-26 09:55:03  97.105.19.61      Friday  \n",
       "2018-01-26 09:56:02  97.105.19.61      Friday  \n",
       "2018-01-26 09:56:05  97.105.19.61      Friday  \n",
       "2018-01-26 09:56:06  97.105.19.61      Friday  \n",
       "2018-01-26 09:56:24  97.105.19.61      Friday  "
      ]
     },
     "execution_count": 179,
     "metadata": {},
     "output_type": "execute_result"
    }
   ],
   "source": [
    "df.head()"
   ]
  },
  {
   "cell_type": "code",
   "execution_count": 180,
   "id": "b1018ce2",
   "metadata": {},
   "outputs": [
    {
     "data": {
      "text/plain": [
       "/                                                               50313\n",
       "search/search_index.json                                        19519\n",
       "javascript-i                                                    18983\n",
       "toc                                                             18297\n",
       "java-iii                                                        13733\n",
       "                                                                ...  \n",
       "javascript/loops                                                    1\n",
       "content/control-structures-ii                                       1\n",
       "javascript-ii/promisesdfghjkjhgfs                                   1\n",
       "app                                                                 1\n",
       "appendix/professional-development/post-interview-review-form        1\n",
       "Name: endpoint, Length: 2313, dtype: int64"
      ]
     },
     "execution_count": 180,
     "metadata": {},
     "output_type": "execute_result"
    }
   ],
   "source": [
    "df.endpoint.value_counts()"
   ]
  },
  {
   "cell_type": "markdown",
   "id": "0524fd52",
   "metadata": {},
   "source": [
    "#### To answer this question, I decided to analyze activity outside of normal school days. After filtering the dataset into a new subset of instances on Saturdays and Sundays only, I found a particular IP that raises some suspicion. The IP address '192.171.117.210' has tons of access counts from different users and cohorts, but this is not CodeUp's IP. This IP has the most weekend access by a vast amount, so the only thing that would make sense is a place that students would gather on the weekend and access the curriculum, like geekdom. I would like to raise a yellow flag here until we can confirm if this is Geekdom's IP.\n",
    "\n",
    "#### As for web scraping, I do not have enough information within the provided .txt file to begin analyzing if web scraping may be occurring on our curriculum. I certainly welcome the challenge of this task, but I will need information like the request header, so I can identify users not using traditional web browsers, as well as the file sizes being downloaded. With this information along with what I was provided, I am confident a proper analysis of this possibility can be conducted."
   ]
  },
  {
   "cell_type": "markdown",
   "id": "9daa01ef",
   "metadata": {},
   "source": [
    "# Question 1\n",
    "\n",
    "###  Which lesson appears to attract the most traffic consistently across cohorts (per program)?"
   ]
  },
  {
   "cell_type": "code",
   "execution_count": 194,
   "id": "dd474978",
   "metadata": {},
   "outputs": [],
   "source": [
    "# Group the data by endpoint and cohort_id to get the count of accesses\n",
    "access_counts = df.groupby([\"endpoint\", \"cohort_id\"])[\"user_id\"].count().reset_index()\n",
    "access_counts.rename(columns={\"user_id\": \"access_count\"}, inplace=True)\n",
    "\n",
    "# Calculate the average and standard deviation of access counts for each endpoint\n",
    "endpoint_stats = access_counts.groupby(\"endpoint\")[\"access_count\"].agg([np.mean, np.std]).reset_index()\n",
    "endpoint_stats.rename(columns={\"mean\": \"avg_access_count\", \"std\": \"std_dev_access_count\"}, inplace=True)\n",
    "\n",
    "# Rank the endpoints by their standard deviation and find the one with the lowest standard deviation\n",
    "endpoint_stats_sorted = endpoint_stats.sort_values(\"std_dev_access_count\")\n",
    "most_consistent_endpoint = endpoint_stats_sorted.iloc[0][\"endpoint\"]\n"
   ]
  },
  {
   "cell_type": "code",
   "execution_count": 208,
   "id": "c3f5ddee",
   "metadata": {},
   "outputs": [
    {
     "data": {
      "text/html": [
       "<div>\n",
       "<style scoped>\n",
       "    .dataframe tbody tr th:only-of-type {\n",
       "        vertical-align: middle;\n",
       "    }\n",
       "\n",
       "    .dataframe tbody tr th {\n",
       "        vertical-align: top;\n",
       "    }\n",
       "\n",
       "    .dataframe thead th {\n",
       "        text-align: right;\n",
       "    }\n",
       "</style>\n",
       "<table border=\"1\" class=\"dataframe\">\n",
       "  <thead>\n",
       "    <tr style=\"text-align: right;\">\n",
       "      <th></th>\n",
       "      <th>endpoint</th>\n",
       "      <th>avg_access_count</th>\n",
       "    </tr>\n",
       "  </thead>\n",
       "  <tbody>\n",
       "    <tr>\n",
       "      <th>6</th>\n",
       "      <td>/</td>\n",
       "      <td>975.617021</td>\n",
       "    </tr>\n",
       "    <tr>\n",
       "      <th>1712</th>\n",
       "      <td>javascript-i</td>\n",
       "      <td>455.075000</td>\n",
       "    </tr>\n",
       "    <tr>\n",
       "      <th>2190</th>\n",
       "      <td>toc</td>\n",
       "      <td>439.775000</td>\n",
       "    </tr>\n",
       "    <tr>\n",
       "      <th>2007</th>\n",
       "      <td>search/search_index.json</td>\n",
       "      <td>427.658537</td>\n",
       "    </tr>\n",
       "    <tr>\n",
       "      <th>1016</th>\n",
       "      <td>classification/overview</td>\n",
       "      <td>376.714286</td>\n",
       "    </tr>\n",
       "    <tr>\n",
       "      <th>...</th>\n",
       "      <td>...</td>\n",
       "      <td>...</td>\n",
       "    </tr>\n",
       "    <tr>\n",
       "      <th>1274</th>\n",
       "      <td>content/mysql/aliases-and-functions/aliases.html</td>\n",
       "      <td>1.000000</td>\n",
       "    </tr>\n",
       "    <tr>\n",
       "      <th>1285</th>\n",
       "      <td>content/mysql/clauses/group-by.html</td>\n",
       "      <td>1.000000</td>\n",
       "    </tr>\n",
       "    <tr>\n",
       "      <th>1287</th>\n",
       "      <td>content/mysql/clauses/order-by.html</td>\n",
       "      <td>1.000000</td>\n",
       "    </tr>\n",
       "    <tr>\n",
       "      <th>1293</th>\n",
       "      <td>content/mysql/intro-to-mysql/index.html</td>\n",
       "      <td>1.000000</td>\n",
       "    </tr>\n",
       "    <tr>\n",
       "      <th>2223</th>\n",
       "      <td>wp-login</td>\n",
       "      <td>1.000000</td>\n",
       "    </tr>\n",
       "  </tbody>\n",
       "</table>\n",
       "<p>2224 rows × 2 columns</p>\n",
       "</div>"
      ],
      "text/plain": [
       "                                              endpoint  avg_access_count\n",
       "6                                                    /        975.617021\n",
       "1712                                      javascript-i        455.075000\n",
       "2190                                               toc        439.775000\n",
       "2007                          search/search_index.json        427.658537\n",
       "1016                           classification/overview        376.714286\n",
       "...                                                ...               ...\n",
       "1274  content/mysql/aliases-and-functions/aliases.html          1.000000\n",
       "1285               content/mysql/clauses/group-by.html          1.000000\n",
       "1287               content/mysql/clauses/order-by.html          1.000000\n",
       "1293           content/mysql/intro-to-mysql/index.html          1.000000\n",
       "2223                                          wp-login          1.000000\n",
       "\n",
       "[2224 rows x 2 columns]"
      ]
     },
     "execution_count": 208,
     "metadata": {},
     "output_type": "execute_result"
    }
   ],
   "source": [
    "access_counts = df.groupby([\"endpoint\", \n",
    "                            \"cohort_id\"])[\"user_id\"].count().reset_index()\n",
    "\n",
    "access_counts.rename(columns={\"user_id\": \"access_count\"}, inplace=True)\n",
    "\n",
    "endpoint_stats = access_counts.groupby(\"endpoint\")[\"access_count\"].agg(\n",
    "    [np.mean]).reset_index()\n",
    "\n",
    "endpoint_stats.rename(columns={\"mean\": \"avg_access_count\"}, inplace=True)\n",
    "\n",
    "endpoint_stats_sorted = endpoint_stats.sort_values(\"avg_access_count\",\n",
    "                                                  ascending=False)\n",
    "\n",
    "endpoint_stats_sorted"
   ]
  },
  {
   "cell_type": "markdown",
   "id": "e3a7237a",
   "metadata": {},
   "source": [
    "#### To answer this question, I created a subset of the data grouping by endpoint, or lesson, and cohort id. I then calculated the average access counts of all lessons within this subset and sorted to show the most accessed lesson on average among all the cohorts. I found that javascript I was accessed approximately 455 times on average, the highest for the web dev program. The highest accessed data science lesson was classification with approximately 377 access counts on average. "
   ]
  },
  {
   "cell_type": "markdown",
   "id": "e5196ba2",
   "metadata": {},
   "source": [
    "# Question 2\n",
    "\n",
    "### Is there a cohort that referred to a lesson significantly more than other cohorts seemed to gloss over?"
   ]
  },
  {
   "cell_type": "code",
   "execution_count": 210,
   "id": "42afe96a",
   "metadata": {},
   "outputs": [
    {
     "data": {
      "text/html": [
       "<div>\n",
       "<style scoped>\n",
       "    .dataframe tbody tr th:only-of-type {\n",
       "        vertical-align: middle;\n",
       "    }\n",
       "\n",
       "    .dataframe tbody tr th {\n",
       "        vertical-align: top;\n",
       "    }\n",
       "\n",
       "    .dataframe thead th {\n",
       "        text-align: right;\n",
       "    }\n",
       "</style>\n",
       "<table border=\"1\" class=\"dataframe\">\n",
       "  <thead>\n",
       "    <tr style=\"text-align: right;\">\n",
       "      <th></th>\n",
       "      <th>endpoint</th>\n",
       "      <th>avg_access_count</th>\n",
       "    </tr>\n",
       "  </thead>\n",
       "  <tbody>\n",
       "    <tr>\n",
       "      <th>0</th>\n",
       "      <td>%20https://github.com/RaulCPena</td>\n",
       "      <td>1.0</td>\n",
       "    </tr>\n",
       "    <tr>\n",
       "      <th>1</th>\n",
       "      <td>'</td>\n",
       "      <td>1.0</td>\n",
       "    </tr>\n",
       "    <tr>\n",
       "      <th>2</th>\n",
       "      <td>,%20https://github.com/RaulCPena</td>\n",
       "      <td>1.0</td>\n",
       "    </tr>\n",
       "    <tr>\n",
       "      <th>3</th>\n",
       "      <td>.git</td>\n",
       "      <td>1.0</td>\n",
       "    </tr>\n",
       "    <tr>\n",
       "      <th>4</th>\n",
       "      <td>.gitignore</td>\n",
       "      <td>1.0</td>\n",
       "    </tr>\n",
       "    <tr>\n",
       "      <th>...</th>\n",
       "      <td>...</td>\n",
       "      <td>...</td>\n",
       "    </tr>\n",
       "    <tr>\n",
       "      <th>2219</th>\n",
       "      <td>web-dev-day-two</td>\n",
       "      <td>2.0</td>\n",
       "    </tr>\n",
       "    <tr>\n",
       "      <th>2220</th>\n",
       "      <td>where</td>\n",
       "      <td>1.0</td>\n",
       "    </tr>\n",
       "    <tr>\n",
       "      <th>2221</th>\n",
       "      <td>working-with-time-series-data</td>\n",
       "      <td>7.5</td>\n",
       "    </tr>\n",
       "    <tr>\n",
       "      <th>2222</th>\n",
       "      <td>wp-admin</td>\n",
       "      <td>1.0</td>\n",
       "    </tr>\n",
       "    <tr>\n",
       "      <th>2223</th>\n",
       "      <td>wp-login</td>\n",
       "      <td>1.0</td>\n",
       "    </tr>\n",
       "  </tbody>\n",
       "</table>\n",
       "<p>2224 rows × 2 columns</p>\n",
       "</div>"
      ],
      "text/plain": [
       "                              endpoint  avg_access_count\n",
       "0      %20https://github.com/RaulCPena               1.0\n",
       "1                                    '               1.0\n",
       "2     ,%20https://github.com/RaulCPena               1.0\n",
       "3                                 .git               1.0\n",
       "4                           .gitignore               1.0\n",
       "...                                ...               ...\n",
       "2219                   web-dev-day-two               2.0\n",
       "2220                             where               1.0\n",
       "2221     working-with-time-series-data               7.5\n",
       "2222                          wp-admin               1.0\n",
       "2223                          wp-login               1.0\n",
       "\n",
       "[2224 rows x 2 columns]"
      ]
     },
     "execution_count": 210,
     "metadata": {},
     "output_type": "execute_result"
    }
   ],
   "source": [
    "endpoint_stats"
   ]
  },
  {
   "cell_type": "code",
   "execution_count": 220,
   "id": "350159fe",
   "metadata": {},
   "outputs": [
    {
     "data": {
      "text/html": [
       "<div>\n",
       "<style scoped>\n",
       "    .dataframe tbody tr th:only-of-type {\n",
       "        vertical-align: middle;\n",
       "    }\n",
       "\n",
       "    .dataframe tbody tr th {\n",
       "        vertical-align: top;\n",
       "    }\n",
       "\n",
       "    .dataframe thead th {\n",
       "        text-align: right;\n",
       "    }\n",
       "</style>\n",
       "<table border=\"1\" class=\"dataframe\">\n",
       "  <thead>\n",
       "    <tr style=\"text-align: right;\">\n",
       "      <th></th>\n",
       "      <th>endpoint</th>\n",
       "      <th>cohort_id</th>\n",
       "      <th>sum</th>\n",
       "    </tr>\n",
       "  </thead>\n",
       "  <tbody>\n",
       "    <tr>\n",
       "      <th>0</th>\n",
       "      <td>%20https://github.com/RaulCPena</td>\n",
       "      <td>55.0</td>\n",
       "      <td>1</td>\n",
       "    </tr>\n",
       "    <tr>\n",
       "      <th>1</th>\n",
       "      <td>'</td>\n",
       "      <td>28.0</td>\n",
       "      <td>1</td>\n",
       "    </tr>\n",
       "    <tr>\n",
       "      <th>2</th>\n",
       "      <td>,%20https://github.com/RaulCPena</td>\n",
       "      <td>55.0</td>\n",
       "      <td>1</td>\n",
       "    </tr>\n",
       "    <tr>\n",
       "      <th>3</th>\n",
       "      <td>.git</td>\n",
       "      <td>24.0</td>\n",
       "      <td>1</td>\n",
       "    </tr>\n",
       "    <tr>\n",
       "      <th>4</th>\n",
       "      <td>.gitignore</td>\n",
       "      <td>24.0</td>\n",
       "      <td>1</td>\n",
       "    </tr>\n",
       "    <tr>\n",
       "      <th>...</th>\n",
       "      <td>...</td>\n",
       "      <td>...</td>\n",
       "      <td>...</td>\n",
       "    </tr>\n",
       "    <tr>\n",
       "      <th>13560</th>\n",
       "      <td>where</td>\n",
       "      <td>137.0</td>\n",
       "      <td>1</td>\n",
       "    </tr>\n",
       "    <tr>\n",
       "      <th>13561</th>\n",
       "      <td>working-with-time-series-data</td>\n",
       "      <td>28.0</td>\n",
       "      <td>1</td>\n",
       "    </tr>\n",
       "    <tr>\n",
       "      <th>13562</th>\n",
       "      <td>working-with-time-series-data</td>\n",
       "      <td>59.0</td>\n",
       "      <td>14</td>\n",
       "    </tr>\n",
       "    <tr>\n",
       "      <th>13563</th>\n",
       "      <td>wp-admin</td>\n",
       "      <td>22.0</td>\n",
       "      <td>1</td>\n",
       "    </tr>\n",
       "    <tr>\n",
       "      <th>13564</th>\n",
       "      <td>wp-login</td>\n",
       "      <td>22.0</td>\n",
       "      <td>1</td>\n",
       "    </tr>\n",
       "  </tbody>\n",
       "</table>\n",
       "<p>13565 rows × 3 columns</p>\n",
       "</div>"
      ],
      "text/plain": [
       "                               endpoint  cohort_id  sum\n",
       "0       %20https://github.com/RaulCPena       55.0    1\n",
       "1                                     '       28.0    1\n",
       "2      ,%20https://github.com/RaulCPena       55.0    1\n",
       "3                                  .git       24.0    1\n",
       "4                            .gitignore       24.0    1\n",
       "...                                 ...        ...  ...\n",
       "13560                             where      137.0    1\n",
       "13561     working-with-time-series-data       28.0    1\n",
       "13562     working-with-time-series-data       59.0   14\n",
       "13563                          wp-admin       22.0    1\n",
       "13564                          wp-login       22.0    1\n",
       "\n",
       "[13565 rows x 3 columns]"
      ]
     },
     "execution_count": 220,
     "metadata": {},
     "output_type": "execute_result"
    }
   ],
   "source": [
    "cohort_endpoint_stats = access_counts.groupby([\"endpoint\", \"cohort_id\"])[\"access_count\"].agg(\n",
    "    [np.sum]).reset_index()\n",
    "\n",
    "cohort_endpoint_stats"
   ]
  },
  {
   "cell_type": "code",
   "execution_count": 224,
   "id": "d1535d66",
   "metadata": {},
   "outputs": [
    {
     "data": {
      "text/html": [
       "<div>\n",
       "<style scoped>\n",
       "    .dataframe tbody tr th:only-of-type {\n",
       "        vertical-align: middle;\n",
       "    }\n",
       "\n",
       "    .dataframe tbody tr th {\n",
       "        vertical-align: top;\n",
       "    }\n",
       "\n",
       "    .dataframe thead th {\n",
       "        text-align: right;\n",
       "    }\n",
       "</style>\n",
       "<table border=\"1\" class=\"dataframe\">\n",
       "  <thead>\n",
       "    <tr style=\"text-align: right;\">\n",
       "      <th></th>\n",
       "      <th>endpoint</th>\n",
       "      <th>cohort_id</th>\n",
       "      <th>sum</th>\n",
       "    </tr>\n",
       "  </thead>\n",
       "  <tbody>\n",
       "    <tr>\n",
       "      <th>13351</th>\n",
       "      <td>toc</td>\n",
       "      <td>62.0</td>\n",
       "      <td>1866</td>\n",
       "    </tr>\n",
       "    <tr>\n",
       "      <th>8974</th>\n",
       "      <td>javascript-i</td>\n",
       "      <td>28.0</td>\n",
       "      <td>1817</td>\n",
       "    </tr>\n",
       "    <tr>\n",
       "      <th>11897</th>\n",
       "      <td>search/search_index.json</td>\n",
       "      <td>56.0</td>\n",
       "      <td>1497</td>\n",
       "    </tr>\n",
       "    <tr>\n",
       "      <th>13338</th>\n",
       "      <td>toc</td>\n",
       "      <td>29.0</td>\n",
       "      <td>1465</td>\n",
       "    </tr>\n",
       "    <tr>\n",
       "      <th>12460</th>\n",
       "      <td>spring</td>\n",
       "      <td>28.0</td>\n",
       "      <td>1403</td>\n",
       "    </tr>\n",
       "    <tr>\n",
       "      <th>8596</th>\n",
       "      <td>java-iii</td>\n",
       "      <td>28.0</td>\n",
       "      <td>1393</td>\n",
       "    </tr>\n",
       "    <tr>\n",
       "      <th>11891</th>\n",
       "      <td>search/search_index.json</td>\n",
       "      <td>33.0</td>\n",
       "      <td>1380</td>\n",
       "    </tr>\n",
       "    <tr>\n",
       "      <th>11887</th>\n",
       "      <td>search/search_index.json</td>\n",
       "      <td>28.0</td>\n",
       "      <td>1349</td>\n",
       "    </tr>\n",
       "    <tr>\n",
       "      <th>13345</th>\n",
       "      <td>toc</td>\n",
       "      <td>53.0</td>\n",
       "      <td>1293</td>\n",
       "    </tr>\n",
       "    <tr>\n",
       "      <th>1879</th>\n",
       "      <td>appendix</td>\n",
       "      <td>28.0</td>\n",
       "      <td>1288</td>\n",
       "    </tr>\n",
       "    <tr>\n",
       "      <th>7270</th>\n",
       "      <td>html-css</td>\n",
       "      <td>28.0</td>\n",
       "      <td>1284</td>\n",
       "    </tr>\n",
       "    <tr>\n",
       "      <th>8243</th>\n",
       "      <td>java-ii</td>\n",
       "      <td>28.0</td>\n",
       "      <td>1260</td>\n",
       "    </tr>\n",
       "    <tr>\n",
       "      <th>3970</th>\n",
       "      <td>classification/overview</td>\n",
       "      <td>59.0</td>\n",
       "      <td>1109</td>\n",
       "    </tr>\n",
       "    <tr>\n",
       "      <th>11898</th>\n",
       "      <td>search/search_index.json</td>\n",
       "      <td>57.0</td>\n",
       "      <td>1095</td>\n",
       "    </tr>\n",
       "    <tr>\n",
       "      <th>10165</th>\n",
       "      <td>jquery/ajax/weather-map</td>\n",
       "      <td>28.0</td>\n",
       "      <td>1050</td>\n",
       "    </tr>\n",
       "    <tr>\n",
       "      <th>13348</th>\n",
       "      <td>toc</td>\n",
       "      <td>58.0</td>\n",
       "      <td>1022</td>\n",
       "    </tr>\n",
       "    <tr>\n",
       "      <th>11895</th>\n",
       "      <td>search/search_index.json</td>\n",
       "      <td>53.0</td>\n",
       "      <td>1020</td>\n",
       "    </tr>\n",
       "    <tr>\n",
       "      <th>8978</th>\n",
       "      <td>javascript-i</td>\n",
       "      <td>33.0</td>\n",
       "      <td>1003</td>\n",
       "    </tr>\n",
       "    <tr>\n",
       "      <th>11902</th>\n",
       "      <td>search/search_index.json</td>\n",
       "      <td>62.0</td>\n",
       "      <td>998</td>\n",
       "    </tr>\n",
       "    <tr>\n",
       "      <th>9784</th>\n",
       "      <td>javascript-ii</td>\n",
       "      <td>28.0</td>\n",
       "      <td>993</td>\n",
       "    </tr>\n",
       "    <tr>\n",
       "      <th>13334</th>\n",
       "      <td>toc</td>\n",
       "      <td>25.0</td>\n",
       "      <td>991</td>\n",
       "    </tr>\n",
       "    <tr>\n",
       "      <th>13344</th>\n",
       "      <td>toc</td>\n",
       "      <td>52.0</td>\n",
       "      <td>964</td>\n",
       "    </tr>\n",
       "    <tr>\n",
       "      <th>3997</th>\n",
       "      <td>classification/scale_features_or_not.svg</td>\n",
       "      <td>59.0</td>\n",
       "      <td>943</td>\n",
       "    </tr>\n",
       "    <tr>\n",
       "      <th>8987</th>\n",
       "      <td>javascript-i</td>\n",
       "      <td>62.0</td>\n",
       "      <td>926</td>\n",
       "    </tr>\n",
       "    <tr>\n",
       "      <th>10063</th>\n",
       "      <td>jquery</td>\n",
       "      <td>28.0</td>\n",
       "      <td>917</td>\n",
       "    </tr>\n",
       "    <tr>\n",
       "      <th>13337</th>\n",
       "      <td>toc</td>\n",
       "      <td>28.0</td>\n",
       "      <td>911</td>\n",
       "    </tr>\n",
       "    <tr>\n",
       "      <th>13341</th>\n",
       "      <td>toc</td>\n",
       "      <td>33.0</td>\n",
       "      <td>911</td>\n",
       "    </tr>\n",
       "    <tr>\n",
       "      <th>8985</th>\n",
       "      <td>javascript-i</td>\n",
       "      <td>58.0</td>\n",
       "      <td>910</td>\n",
       "    </tr>\n",
       "    <tr>\n",
       "      <th>13354</th>\n",
       "      <td>toc</td>\n",
       "      <td>135.0</td>\n",
       "      <td>910</td>\n",
       "    </tr>\n",
       "    <tr>\n",
       "      <th>8990</th>\n",
       "      <td>javascript-i</td>\n",
       "      <td>135.0</td>\n",
       "      <td>907</td>\n",
       "    </tr>\n",
       "  </tbody>\n",
       "</table>\n",
       "</div>"
      ],
      "text/plain": [
       "                                       endpoint  cohort_id   sum\n",
       "13351                                       toc       62.0  1866\n",
       "8974                               javascript-i       28.0  1817\n",
       "11897                  search/search_index.json       56.0  1497\n",
       "13338                                       toc       29.0  1465\n",
       "12460                                    spring       28.0  1403\n",
       "8596                                   java-iii       28.0  1393\n",
       "11891                  search/search_index.json       33.0  1380\n",
       "11887                  search/search_index.json       28.0  1349\n",
       "13345                                       toc       53.0  1293\n",
       "1879                                   appendix       28.0  1288\n",
       "7270                                   html-css       28.0  1284\n",
       "8243                                    java-ii       28.0  1260\n",
       "3970                    classification/overview       59.0  1109\n",
       "11898                  search/search_index.json       57.0  1095\n",
       "10165                   jquery/ajax/weather-map       28.0  1050\n",
       "13348                                       toc       58.0  1022\n",
       "11895                  search/search_index.json       53.0  1020\n",
       "8978                               javascript-i       33.0  1003\n",
       "11902                  search/search_index.json       62.0   998\n",
       "9784                              javascript-ii       28.0   993\n",
       "13334                                       toc       25.0   991\n",
       "13344                                       toc       52.0   964\n",
       "3997   classification/scale_features_or_not.svg       59.0   943\n",
       "8987                               javascript-i       62.0   926\n",
       "10063                                    jquery       28.0   917\n",
       "13337                                       toc       28.0   911\n",
       "13341                                       toc       33.0   911\n",
       "8985                               javascript-i       58.0   910\n",
       "13354                                       toc      135.0   910\n",
       "8990                               javascript-i      135.0   907"
      ]
     },
     "execution_count": 224,
     "metadata": {},
     "output_type": "execute_result"
    }
   ],
   "source": [
    "sorted_endpoint = cohort_endpoint_stats.sort_values(\n",
    "    'sum', ascending=False)\n",
    "\n",
    "filtered_df = sorted_endpoint[sorted_endpoint[\"endpoint\"] != \"/\"]\n",
    "\n",
    "filtered_df.head(30)"
   ]
  },
  {
   "cell_type": "code",
   "execution_count": 227,
   "id": "cc300c83",
   "metadata": {},
   "outputs": [
    {
     "data": {
      "text/plain": [
       "304.6923076923077"
      ]
     },
     "execution_count": 227,
     "metadata": {},
     "output_type": "execute_result"
    }
   ],
   "source": [
    "spring_access = filtered_df.loc[filtered_df.endpoint == 'spring']\n",
    "spring_access['sum'].mean()"
   ]
  },
  {
   "cell_type": "code",
   "execution_count": 228,
   "id": "0a04c436",
   "metadata": {},
   "outputs": [
    {
     "data": {
      "text/plain": [
       "11883"
      ]
     },
     "execution_count": 228,
     "metadata": {},
     "output_type": "execute_result"
    }
   ],
   "source": [
    "spring_access['sum'].sum()"
   ]
  },
  {
   "cell_type": "code",
   "execution_count": 230,
   "id": "29ce8a42",
   "metadata": {},
   "outputs": [
    {
     "data": {
      "text/plain": [
       "39"
      ]
     },
     "execution_count": 230,
     "metadata": {},
     "output_type": "execute_result"
    }
   ],
   "source": [
    "len(spring_access)"
   ]
  },
  {
   "cell_type": "code",
   "execution_count": 233,
   "id": "f1f799b6",
   "metadata": {},
   "outputs": [
    {
     "data": {
      "text/plain": [
       "275.7894736842105"
      ]
     },
     "execution_count": 233,
     "metadata": {},
     "output_type": "execute_result"
    }
   ],
   "source": [
    "(11883 - 1403)/38"
   ]
  },
  {
   "cell_type": "markdown",
   "id": "7feeb57b",
   "metadata": {},
   "source": [
    "#### To answer this question, I created a subset of the data grouping by endpoint, or lesson, and cohort id. I then calculated the sum of access counts by cohort id to see the total count of access of each lesson by cohort. I filtered out any access of the homepage, “/”, as this result does not reflect a lesson. I then displayed the table to review the top 30 most frequently accessed lessons by cohort to examine for a lesson that was heavily accessed by a single cohort. I found that the “spring” lesson was accessed a total of 1403 times by cohort 28, while the average access count of this lesson is approximately 305 per cohort. I also calculated the average access of this lesson with cohort 28 removed, and found the average access to this lesson is only ~276 per cohort. "
   ]
  },
  {
   "cell_type": "markdown",
   "id": "d7797435",
   "metadata": {},
   "source": [
    "# Question 3\n",
    "\n",
    "### Are there students who, when active, hardly access the curriculum? If so, what information do you have about these students?"
   ]
  },
  {
   "cell_type": "code",
   "execution_count": 234,
   "id": "61baf126",
   "metadata": {},
   "outputs": [
    {
     "data": {
      "text/html": [
       "<div>\n",
       "<style scoped>\n",
       "    .dataframe tbody tr th:only-of-type {\n",
       "        vertical-align: middle;\n",
       "    }\n",
       "\n",
       "    .dataframe tbody tr th {\n",
       "        vertical-align: top;\n",
       "    }\n",
       "\n",
       "    .dataframe thead th {\n",
       "        text-align: right;\n",
       "    }\n",
       "</style>\n",
       "<table border=\"1\" class=\"dataframe\">\n",
       "  <thead>\n",
       "    <tr style=\"text-align: right;\">\n",
       "      <th></th>\n",
       "      <th>endpoint</th>\n",
       "      <th>user_id</th>\n",
       "      <th>cohort_id</th>\n",
       "      <th>source_ip</th>\n",
       "      <th>day_of_week</th>\n",
       "    </tr>\n",
       "    <tr>\n",
       "      <th>datetime</th>\n",
       "      <th></th>\n",
       "      <th></th>\n",
       "      <th></th>\n",
       "      <th></th>\n",
       "      <th></th>\n",
       "    </tr>\n",
       "  </thead>\n",
       "  <tbody>\n",
       "    <tr>\n",
       "      <th>2018-01-26 09:55:03</th>\n",
       "      <td>/</td>\n",
       "      <td>1</td>\n",
       "      <td>8.0</td>\n",
       "      <td>97.105.19.61</td>\n",
       "      <td>Friday</td>\n",
       "    </tr>\n",
       "    <tr>\n",
       "      <th>2018-01-26 09:56:02</th>\n",
       "      <td>java-ii</td>\n",
       "      <td>1</td>\n",
       "      <td>8.0</td>\n",
       "      <td>97.105.19.61</td>\n",
       "      <td>Friday</td>\n",
       "    </tr>\n",
       "    <tr>\n",
       "      <th>2018-01-26 09:56:05</th>\n",
       "      <td>java-ii/object-oriented-programming</td>\n",
       "      <td>1</td>\n",
       "      <td>8.0</td>\n",
       "      <td>97.105.19.61</td>\n",
       "      <td>Friday</td>\n",
       "    </tr>\n",
       "    <tr>\n",
       "      <th>2018-01-26 09:56:06</th>\n",
       "      <td>slides/object_oriented_programming</td>\n",
       "      <td>1</td>\n",
       "      <td>8.0</td>\n",
       "      <td>97.105.19.61</td>\n",
       "      <td>Friday</td>\n",
       "    </tr>\n",
       "    <tr>\n",
       "      <th>2018-01-26 09:56:24</th>\n",
       "      <td>javascript-i/conditionals</td>\n",
       "      <td>2</td>\n",
       "      <td>22.0</td>\n",
       "      <td>97.105.19.61</td>\n",
       "      <td>Friday</td>\n",
       "    </tr>\n",
       "  </tbody>\n",
       "</table>\n",
       "</div>"
      ],
      "text/plain": [
       "                                                endpoint  user_id  cohort_id  \\\n",
       "datetime                                                                       \n",
       "2018-01-26 09:55:03                                    /        1        8.0   \n",
       "2018-01-26 09:56:02                              java-ii        1        8.0   \n",
       "2018-01-26 09:56:05  java-ii/object-oriented-programming        1        8.0   \n",
       "2018-01-26 09:56:06   slides/object_oriented_programming        1        8.0   \n",
       "2018-01-26 09:56:24            javascript-i/conditionals        2       22.0   \n",
       "\n",
       "                        source_ip day_of_week  \n",
       "datetime                                       \n",
       "2018-01-26 09:55:03  97.105.19.61      Friday  \n",
       "2018-01-26 09:56:02  97.105.19.61      Friday  \n",
       "2018-01-26 09:56:05  97.105.19.61      Friday  \n",
       "2018-01-26 09:56:06  97.105.19.61      Friday  \n",
       "2018-01-26 09:56:24  97.105.19.61      Friday  "
      ]
     },
     "execution_count": 234,
     "metadata": {},
     "output_type": "execute_result"
    }
   ],
   "source": [
    "df.head()"
   ]
  },
  {
   "cell_type": "code",
   "execution_count": 275,
   "id": "f93bcda0",
   "metadata": {},
   "outputs": [
    {
     "data": {
      "text/html": [
       "<div>\n",
       "<style scoped>\n",
       "    .dataframe tbody tr th:only-of-type {\n",
       "        vertical-align: middle;\n",
       "    }\n",
       "\n",
       "    .dataframe tbody tr th {\n",
       "        vertical-align: top;\n",
       "    }\n",
       "\n",
       "    .dataframe thead th {\n",
       "        text-align: right;\n",
       "    }\n",
       "</style>\n",
       "<table border=\"1\" class=\"dataframe\">\n",
       "  <thead>\n",
       "    <tr style=\"text-align: right;\">\n",
       "      <th></th>\n",
       "      <th>endpoint</th>\n",
       "    </tr>\n",
       "  </thead>\n",
       "  <tbody>\n",
       "    <tr>\n",
       "      <th>count</th>\n",
       "      <td>981.000000</td>\n",
       "    </tr>\n",
       "    <tr>\n",
       "      <th>mean</th>\n",
       "      <td>917.657492</td>\n",
       "    </tr>\n",
       "    <tr>\n",
       "      <th>std</th>\n",
       "      <td>1208.871322</td>\n",
       "    </tr>\n",
       "    <tr>\n",
       "      <th>min</th>\n",
       "      <td>1.000000</td>\n",
       "    </tr>\n",
       "    <tr>\n",
       "      <th>25%</th>\n",
       "      <td>187.000000</td>\n",
       "    </tr>\n",
       "    <tr>\n",
       "      <th>50%</th>\n",
       "      <td>692.000000</td>\n",
       "    </tr>\n",
       "    <tr>\n",
       "      <th>75%</th>\n",
       "      <td>1297.000000</td>\n",
       "    </tr>\n",
       "    <tr>\n",
       "      <th>max</th>\n",
       "      <td>17913.000000</td>\n",
       "    </tr>\n",
       "  </tbody>\n",
       "</table>\n",
       "</div>"
      ],
      "text/plain": [
       "           endpoint\n",
       "count    981.000000\n",
       "mean     917.657492\n",
       "std     1208.871322\n",
       "min        1.000000\n",
       "25%      187.000000\n",
       "50%      692.000000\n",
       "75%     1297.000000\n",
       "max    17913.000000"
      ]
     },
     "execution_count": 275,
     "metadata": {},
     "output_type": "execute_result"
    }
   ],
   "source": [
    "access_per_user = df[['user_id', 'endpoint']].groupby(\n",
    "    \"user_id\").count()\n",
    "  \n",
    "sorted_access = access_per_user.sort_values('endpoint')\n",
    "\n",
    "sorted_access.describe()"
   ]
  },
  {
   "cell_type": "code",
   "execution_count": 288,
   "id": "47427f05",
   "metadata": {},
   "outputs": [
    {
     "data": {
      "text/plain": [
       "Int64Index([652, 212, 879, 163, 952, 165, 649, 592, 593, 619,\n",
       "            ...\n",
       "            597, 938, 943,  17,  86, 175, 284,  57,  47, 932],\n",
       "           dtype='int64', name='user_id', length=244)"
      ]
     },
     "execution_count": 288,
     "metadata": {},
     "output_type": "execute_result"
    }
   ],
   "source": [
    "q1 = sorted_access.endpoint.quantile(.25)\n",
    "\n",
    "low_access_count = sorted_access.loc[sorted_access.endpoint < q1]\n",
    "\n",
    "low_access_count_users = low_access_count.index\n",
    "\n",
    "low_access_count_users"
   ]
  },
  {
   "cell_type": "code",
   "execution_count": 334,
   "id": "249fc97b",
   "metadata": {},
   "outputs": [
    {
     "data": {
      "text/html": [
       "<div>\n",
       "<style scoped>\n",
       "    .dataframe tbody tr th:only-of-type {\n",
       "        vertical-align: middle;\n",
       "    }\n",
       "\n",
       "    .dataframe tbody tr th {\n",
       "        vertical-align: top;\n",
       "    }\n",
       "\n",
       "    .dataframe thead th {\n",
       "        text-align: right;\n",
       "    }\n",
       "</style>\n",
       "<table border=\"1\" class=\"dataframe\">\n",
       "  <thead>\n",
       "    <tr style=\"text-align: right;\">\n",
       "      <th></th>\n",
       "      <th>endpoint</th>\n",
       "      <th>user_id</th>\n",
       "      <th>cohort_id</th>\n",
       "      <th>source_ip</th>\n",
       "      <th>day_of_week</th>\n",
       "    </tr>\n",
       "    <tr>\n",
       "      <th>datetime</th>\n",
       "      <th></th>\n",
       "      <th></th>\n",
       "      <th></th>\n",
       "      <th></th>\n",
       "      <th></th>\n",
       "    </tr>\n",
       "  </thead>\n",
       "  <tbody>\n",
       "    <tr>\n",
       "      <th>2018-01-26 10:33:25</th>\n",
       "      <td>javascript-i/functions</td>\n",
       "      <td>13</td>\n",
       "      <td>22.0</td>\n",
       "      <td>97.105.19.61</td>\n",
       "      <td>Friday</td>\n",
       "    </tr>\n",
       "    <tr>\n",
       "      <th>2018-01-26 10:35:35</th>\n",
       "      <td>spring/extra-features/file-upload</td>\n",
       "      <td>17</td>\n",
       "      <td>21.0</td>\n",
       "      <td>97.105.19.61</td>\n",
       "      <td>Friday</td>\n",
       "    </tr>\n",
       "    <tr>\n",
       "      <th>2018-01-26 10:59:02</th>\n",
       "      <td>index.html</td>\n",
       "      <td>21</td>\n",
       "      <td>16.0</td>\n",
       "      <td>71.137.146.71</td>\n",
       "      <td>Friday</td>\n",
       "    </tr>\n",
       "    <tr>\n",
       "      <th>2018-01-26 10:59:06</th>\n",
       "      <td>java-i</td>\n",
       "      <td>21</td>\n",
       "      <td>16.0</td>\n",
       "      <td>71.137.146.71</td>\n",
       "      <td>Friday</td>\n",
       "    </tr>\n",
       "    <tr>\n",
       "      <th>2018-01-26 11:24:17</th>\n",
       "      <td>appendix</td>\n",
       "      <td>24</td>\n",
       "      <td>21.0</td>\n",
       "      <td>97.105.19.61</td>\n",
       "      <td>Friday</td>\n",
       "    </tr>\n",
       "    <tr>\n",
       "      <th>...</th>\n",
       "      <td>...</td>\n",
       "      <td>...</td>\n",
       "      <td>...</td>\n",
       "      <td>...</td>\n",
       "      <td>...</td>\n",
       "    </tr>\n",
       "    <tr>\n",
       "      <th>2020-12-20 18:10:03</th>\n",
       "      <td>javascript-i/conditionals</td>\n",
       "      <td>833</td>\n",
       "      <td>134.0</td>\n",
       "      <td>73.39.175.210</td>\n",
       "      <td>Sunday</td>\n",
       "    </tr>\n",
       "    <tr>\n",
       "      <th>2020-12-20 18:47:06</th>\n",
       "      <td>/</td>\n",
       "      <td>833</td>\n",
       "      <td>134.0</td>\n",
       "      <td>73.39.175.210</td>\n",
       "      <td>Sunday</td>\n",
       "    </tr>\n",
       "    <tr>\n",
       "      <th>2020-12-20 18:50:54</th>\n",
       "      <td>/</td>\n",
       "      <td>777</td>\n",
       "      <td>51.0</td>\n",
       "      <td>104.191.75.0</td>\n",
       "      <td>Sunday</td>\n",
       "    </tr>\n",
       "    <tr>\n",
       "      <th>2020-12-20 18:50:56</th>\n",
       "      <td>appendix</td>\n",
       "      <td>777</td>\n",
       "      <td>51.0</td>\n",
       "      <td>104.191.75.0</td>\n",
       "      <td>Sunday</td>\n",
       "    </tr>\n",
       "    <tr>\n",
       "      <th>2020-12-20 18:51:04</th>\n",
       "      <td>appendix/professional-development/mock-behavio...</td>\n",
       "      <td>777</td>\n",
       "      <td>51.0</td>\n",
       "      <td>104.191.75.0</td>\n",
       "      <td>Sunday</td>\n",
       "    </tr>\n",
       "  </tbody>\n",
       "</table>\n",
       "<p>10243 rows × 5 columns</p>\n",
       "</div>"
      ],
      "text/plain": [
       "                                                              endpoint  \\\n",
       "datetime                                                                 \n",
       "2018-01-26 10:33:25                             javascript-i/functions   \n",
       "2018-01-26 10:35:35                  spring/extra-features/file-upload   \n",
       "2018-01-26 10:59:02                                         index.html   \n",
       "2018-01-26 10:59:06                                             java-i   \n",
       "2018-01-26 11:24:17                                           appendix   \n",
       "...                                                                ...   \n",
       "2020-12-20 18:10:03                          javascript-i/conditionals   \n",
       "2020-12-20 18:47:06                                                  /   \n",
       "2020-12-20 18:50:54                                                  /   \n",
       "2020-12-20 18:50:56                                           appendix   \n",
       "2020-12-20 18:51:04  appendix/professional-development/mock-behavio...   \n",
       "\n",
       "                     user_id  cohort_id      source_ip day_of_week  \n",
       "datetime                                                            \n",
       "2018-01-26 10:33:25       13       22.0   97.105.19.61      Friday  \n",
       "2018-01-26 10:35:35       17       21.0   97.105.19.61      Friday  \n",
       "2018-01-26 10:59:02       21       16.0  71.137.146.71      Friday  \n",
       "2018-01-26 10:59:06       21       16.0  71.137.146.71      Friday  \n",
       "2018-01-26 11:24:17       24       21.0   97.105.19.61      Friday  \n",
       "...                      ...        ...            ...         ...  \n",
       "2020-12-20 18:10:03      833      134.0  73.39.175.210      Sunday  \n",
       "2020-12-20 18:47:06      833      134.0  73.39.175.210      Sunday  \n",
       "2020-12-20 18:50:54      777       51.0   104.191.75.0      Sunday  \n",
       "2020-12-20 18:50:56      777       51.0   104.191.75.0      Sunday  \n",
       "2020-12-20 18:51:04      777       51.0   104.191.75.0      Sunday  \n",
       "\n",
       "[10243 rows x 5 columns]"
      ]
     },
     "execution_count": 334,
     "metadata": {},
     "output_type": "execute_result"
    }
   ],
   "source": [
    "filtered_df = df[df[\"user_id\"].isin(low_access_count_users)]\n",
    "\n",
    "cutoff_date = \"2020-12-21\"\n",
    "\n",
    "filtered_df = filtered_df.loc[filtered_df.index <= cutoff_date]\n",
    "\n",
    "filtered_df"
   ]
  },
  {
   "cell_type": "code",
   "execution_count": 340,
   "id": "545af97d",
   "metadata": {},
   "outputs": [
    {
     "data": {
      "text/plain": [
       "186"
      ]
     },
     "execution_count": 340,
     "metadata": {},
     "output_type": "execute_result"
    }
   ],
   "source": [
    "filtered_df.user_id.nunique()"
   ]
  },
  {
   "cell_type": "code",
   "execution_count": 341,
   "id": "1731515a",
   "metadata": {},
   "outputs": [
    {
     "data": {
      "text/plain": [
       "39"
      ]
     },
     "execution_count": 341,
     "metadata": {},
     "output_type": "execute_result"
    }
   ],
   "source": [
    "filtered_df.cohort_id.nunique()"
   ]
  },
  {
   "cell_type": "code",
   "execution_count": 339,
   "id": "ce6988d3",
   "metadata": {},
   "outputs": [
    {
     "data": {
      "text/plain": [
       "13     6\n",
       "11     5\n",
       "17     4\n",
       "68     4\n",
       "14     3\n",
       "47     3\n",
       "18     3\n",
       "12     3\n",
       "30     2\n",
       "80     2\n",
       "107    2\n",
       "67     2\n",
       "54     2\n",
       "103    2\n",
       "46     2\n",
       "38     2\n",
       "97     2\n",
       "Name: cohort_id, dtype: int64"
      ]
     },
     "execution_count": 339,
     "metadata": {},
     "output_type": "execute_result"
    }
   ],
   "source": [
    "low_users_by_cohort = filtered_df.groupby(\n",
    "    \"user_id\").count().sort_values('endpoint')\n",
    "\n",
    "low_user_count = low_users_by_cohort.cohort_id.value_counts().head(25)\n",
    "\n",
    "low_user_count.loc[low_user_count.index > 10]"
   ]
  },
  {
   "cell_type": "markdown",
   "id": "2d046131",
   "metadata": {},
   "source": [
    "#### To answer this question, I created a subset of the data using only the user_id and endpoint columns, then grouped by user_id to get a count of accesses by user. I then calculated the 25th percentile of access count by user_id to isolate the users who hardly access the curriculum. I used 25th percentile as my qualifier for low access count due to the high standard deviation of this metric. Using any type of Interquartile Range Rule multiplier puts the lower fence in the negative, so this made the most sense for this analysis.\n",
    "\n",
    "#### Once I had this list of users, I filtered the full dataframe to reproduce a new dataframe with these low access count users but removed any data from within the last 5 months to account for anyone who may possibly still be a current student. I found there are 186 students and 39 cohorts who had access counts in the 25th percentile. \n",
    "\n",
    "#### I then grouped this data by cohort_id to identify cohorts with access counts in the 25th percentile. I found that generally the cohorts identified here are the earlier cohorts, where much of the curriculum may not have been established yet. I further filtered out the first 10 cohorts, and found that cohorts 13, 11, 17, and 68 had the top 3 highest counts of low curriculum users with cohort 13 at 6, cohort 11 at 5, and cohorts 17 and 68 tied at 4. \n"
   ]
  },
  {
   "cell_type": "markdown",
   "id": "528d0a25",
   "metadata": {},
   "source": [
    "# Question 5\n",
    "\n",
    "### Which lessons are least accessed?"
   ]
  },
  {
   "cell_type": "code",
   "execution_count": 342,
   "id": "8223b221",
   "metadata": {},
   "outputs": [
    {
     "data": {
      "text/html": [
       "<div>\n",
       "<style scoped>\n",
       "    .dataframe tbody tr th:only-of-type {\n",
       "        vertical-align: middle;\n",
       "    }\n",
       "\n",
       "    .dataframe tbody tr th {\n",
       "        vertical-align: top;\n",
       "    }\n",
       "\n",
       "    .dataframe thead th {\n",
       "        text-align: right;\n",
       "    }\n",
       "</style>\n",
       "<table border=\"1\" class=\"dataframe\">\n",
       "  <thead>\n",
       "    <tr style=\"text-align: right;\">\n",
       "      <th></th>\n",
       "      <th>endpoint</th>\n",
       "      <th>user_id</th>\n",
       "      <th>cohort_id</th>\n",
       "      <th>source_ip</th>\n",
       "      <th>day_of_week</th>\n",
       "    </tr>\n",
       "    <tr>\n",
       "      <th>datetime</th>\n",
       "      <th></th>\n",
       "      <th></th>\n",
       "      <th></th>\n",
       "      <th></th>\n",
       "      <th></th>\n",
       "    </tr>\n",
       "  </thead>\n",
       "  <tbody>\n",
       "    <tr>\n",
       "      <th>2018-01-26 09:55:03</th>\n",
       "      <td>/</td>\n",
       "      <td>1</td>\n",
       "      <td>8.0</td>\n",
       "      <td>97.105.19.61</td>\n",
       "      <td>Friday</td>\n",
       "    </tr>\n",
       "    <tr>\n",
       "      <th>2018-01-26 09:56:02</th>\n",
       "      <td>java-ii</td>\n",
       "      <td>1</td>\n",
       "      <td>8.0</td>\n",
       "      <td>97.105.19.61</td>\n",
       "      <td>Friday</td>\n",
       "    </tr>\n",
       "    <tr>\n",
       "      <th>2018-01-26 09:56:05</th>\n",
       "      <td>java-ii/object-oriented-programming</td>\n",
       "      <td>1</td>\n",
       "      <td>8.0</td>\n",
       "      <td>97.105.19.61</td>\n",
       "      <td>Friday</td>\n",
       "    </tr>\n",
       "    <tr>\n",
       "      <th>2018-01-26 09:56:06</th>\n",
       "      <td>slides/object_oriented_programming</td>\n",
       "      <td>1</td>\n",
       "      <td>8.0</td>\n",
       "      <td>97.105.19.61</td>\n",
       "      <td>Friday</td>\n",
       "    </tr>\n",
       "    <tr>\n",
       "      <th>2018-01-26 09:56:24</th>\n",
       "      <td>javascript-i/conditionals</td>\n",
       "      <td>2</td>\n",
       "      <td>22.0</td>\n",
       "      <td>97.105.19.61</td>\n",
       "      <td>Friday</td>\n",
       "    </tr>\n",
       "  </tbody>\n",
       "</table>\n",
       "</div>"
      ],
      "text/plain": [
       "                                                endpoint  user_id  cohort_id  \\\n",
       "datetime                                                                       \n",
       "2018-01-26 09:55:03                                    /        1        8.0   \n",
       "2018-01-26 09:56:02                              java-ii        1        8.0   \n",
       "2018-01-26 09:56:05  java-ii/object-oriented-programming        1        8.0   \n",
       "2018-01-26 09:56:06   slides/object_oriented_programming        1        8.0   \n",
       "2018-01-26 09:56:24            javascript-i/conditionals        2       22.0   \n",
       "\n",
       "                        source_ip day_of_week  \n",
       "datetime                                       \n",
       "2018-01-26 09:55:03  97.105.19.61      Friday  \n",
       "2018-01-26 09:56:02  97.105.19.61      Friday  \n",
       "2018-01-26 09:56:05  97.105.19.61      Friday  \n",
       "2018-01-26 09:56:06  97.105.19.61      Friday  \n",
       "2018-01-26 09:56:24  97.105.19.61      Friday  "
      ]
     },
     "execution_count": 342,
     "metadata": {},
     "output_type": "execute_result"
    }
   ],
   "source": [
    "df.head()"
   ]
  },
  {
   "cell_type": "code",
   "execution_count": 385,
   "id": "6235c451",
   "metadata": {},
   "outputs": [
    {
     "data": {
      "text/plain": [
       "1.0    457\n",
       "Name: endpoint, dtype: int64"
      ]
     },
     "execution_count": 385,
     "metadata": {},
     "output_type": "execute_result"
    }
   ],
   "source": [
    "endpoint_counts = df.endpoint.value_counts()\n",
    "\n",
    "endpoint_counts.where(endpoint_counts == 1).value_counts()"
   ]
  },
  {
   "cell_type": "code",
   "execution_count": 391,
   "id": "a178d47e",
   "metadata": {},
   "outputs": [
    {
     "data": {
      "text/plain": [
       "datetime\n",
       "2018-01-26 09:55:03                                                   /\n",
       "2018-01-26 09:56:02                                             java-ii\n",
       "2018-01-26 09:56:05                 java-ii/object-oriented-programming\n",
       "2018-01-26 09:56:06                  slides/object_oriented_programming\n",
       "2018-01-26 09:56:24                           javascript-i/conditionals\n",
       "                                             ...                       \n",
       "2021-04-21 16:41:51                                jquery/personal-site\n",
       "2021-04-21 16:42:02                                   jquery/mapbox-api\n",
       "2021-04-21 16:42:09                             jquery/ajax/weather-map\n",
       "2021-04-21 16:44:37    anomaly-detection/discrete-probabilistic-methods\n",
       "2021-04-21 16:44:39                                   jquery/mapbox-api\n",
       "Name: endpoint, Length: 900223, dtype: object"
      ]
     },
     "execution_count": 391,
     "metadata": {},
     "output_type": "execute_result"
    }
   ],
   "source": [
    "df.endpoint"
   ]
  },
  {
   "cell_type": "code",
   "execution_count": 431,
   "id": "34a78da7",
   "metadata": {},
   "outputs": [
    {
     "data": {
      "text/html": [
       "<div>\n",
       "<style scoped>\n",
       "    .dataframe tbody tr th:only-of-type {\n",
       "        vertical-align: middle;\n",
       "    }\n",
       "\n",
       "    .dataframe tbody tr th {\n",
       "        vertical-align: top;\n",
       "    }\n",
       "\n",
       "    .dataframe thead th {\n",
       "        text-align: right;\n",
       "    }\n",
       "</style>\n",
       "<table border=\"1\" class=\"dataframe\">\n",
       "  <thead>\n",
       "    <tr style=\"text-align: right;\">\n",
       "      <th></th>\n",
       "      <th>user_id</th>\n",
       "      <th>cohort_id</th>\n",
       "      <th>source_ip</th>\n",
       "      <th>day_of_week</th>\n",
       "    </tr>\n",
       "    <tr>\n",
       "      <th>endpoint</th>\n",
       "      <th></th>\n",
       "      <th></th>\n",
       "      <th></th>\n",
       "      <th></th>\n",
       "    </tr>\n",
       "  </thead>\n",
       "  <tbody>\n",
       "    <tr>\n",
       "      <th>wp-login</th>\n",
       "      <td>1</td>\n",
       "      <td>1</td>\n",
       "      <td>1</td>\n",
       "      <td>1</td>\n",
       "    </tr>\n",
       "    <tr>\n",
       "      <th>2.00.01_Navigating_Excel.md</th>\n",
       "      <td>1</td>\n",
       "      <td>1</td>\n",
       "      <td>1</td>\n",
       "      <td>1</td>\n",
       "    </tr>\n",
       "    <tr>\n",
       "      <th>extra</th>\n",
       "      <td>1</td>\n",
       "      <td>1</td>\n",
       "      <td>1</td>\n",
       "      <td>1</td>\n",
       "    </tr>\n",
       "    <tr>\n",
       "      <th>evaluate</th>\n",
       "      <td>1</td>\n",
       "      <td>1</td>\n",
       "      <td>1</td>\n",
       "      <td>1</td>\n",
       "    </tr>\n",
       "    <tr>\n",
       "      <th>end_to_end_clustering</th>\n",
       "      <td>1</td>\n",
       "      <td>1</td>\n",
       "      <td>1</td>\n",
       "      <td>1</td>\n",
       "    </tr>\n",
       "    <tr>\n",
       "      <th>...</th>\n",
       "      <td>...</td>\n",
       "      <td>...</td>\n",
       "      <td>...</td>\n",
       "      <td>...</td>\n",
       "    </tr>\n",
       "    <tr>\n",
       "      <th>spring</th>\n",
       "      <td>58603</td>\n",
       "      <td>55481</td>\n",
       "      <td>58603</td>\n",
       "      <td>58603</td>\n",
       "    </tr>\n",
       "    <tr>\n",
       "      <th>jquery</th>\n",
       "      <td>60869</td>\n",
       "      <td>58317</td>\n",
       "      <td>60869</td>\n",
       "      <td>60869</td>\n",
       "    </tr>\n",
       "    <tr>\n",
       "      <th>mysql</th>\n",
       "      <td>82320</td>\n",
       "      <td>79416</td>\n",
       "      <td>82320</td>\n",
       "      <td>82320</td>\n",
       "    </tr>\n",
       "    <tr>\n",
       "      <th>html-css</th>\n",
       "      <td>84935</td>\n",
       "      <td>81490</td>\n",
       "      <td>84935</td>\n",
       "      <td>84935</td>\n",
       "    </tr>\n",
       "    <tr>\n",
       "      <th>javascript-i</th>\n",
       "      <td>118723</td>\n",
       "      <td>113838</td>\n",
       "      <td>118723</td>\n",
       "      <td>118723</td>\n",
       "    </tr>\n",
       "  </tbody>\n",
       "</table>\n",
       "<p>755 rows × 4 columns</p>\n",
       "</div>"
      ],
      "text/plain": [
       "                             user_id  cohort_id  source_ip  day_of_week\n",
       "endpoint                                                               \n",
       "wp-login                           1          1          1            1\n",
       "2.00.01_Navigating_Excel.md        1          1          1            1\n",
       "extra                              1          1          1            1\n",
       "evaluate                           1          1          1            1\n",
       "end_to_end_clustering              1          1          1            1\n",
       "...                              ...        ...        ...          ...\n",
       "spring                         58603      55481      58603        58603\n",
       "jquery                         60869      58317      60869        60869\n",
       "mysql                          82320      79416      82320        82320\n",
       "html-css                       84935      81490      84935        84935\n",
       "javascript-i                  118723     113838     118723       118723\n",
       "\n",
       "[755 rows x 4 columns]"
      ]
     },
     "execution_count": 431,
     "metadata": {},
     "output_type": "execute_result"
    }
   ],
   "source": [
    "df[\"endpoint\"] = df[\"endpoint\"].str.split(\"/\").str[0]\n",
    "\n",
    "endpoint_counts = df.groupby('endpoint').count().sort_values('user_id')\n",
    "\n",
    "endpoint_counts"
   ]
  },
  {
   "cell_type": "code",
   "execution_count": 447,
   "id": "72effb26",
   "metadata": {},
   "outputs": [
    {
     "name": "stderr",
     "output_type": "stream",
     "text": [
      "/var/folders/8k/klwd85kj0d3_n66z9ht0xg7r0000gn/T/ipykernel_4400/3060483847.py:1: FutureWarning: The default value of regex will change from True to False in a future version.\n",
      "  df[\"endpoint\"] = df[\"endpoint\"].str.replace('\\d+', '')\n"
     ]
    }
   ],
   "source": [
    "df[\"endpoint\"] = df[\"endpoint\"].str.replace('\\d+', '')"
   ]
  },
  {
   "cell_type": "code",
   "execution_count": 452,
   "id": "d25d314e",
   "metadata": {},
   "outputs": [],
   "source": [
    "df[\"endpoint\"] = df[\"endpoint\"].str.replace('-', '')"
   ]
  },
  {
   "cell_type": "code",
   "execution_count": 456,
   "id": "21e9addb",
   "metadata": {},
   "outputs": [],
   "source": [
    "df[\"endpoint\"] = df[\"endpoint\"].str.replace('%', '')"
   ]
  },
  {
   "cell_type": "code",
   "execution_count": 460,
   "id": "6eeb2d54",
   "metadata": {},
   "outputs": [
    {
     "name": "stderr",
     "output_type": "stream",
     "text": [
      "/var/folders/8k/klwd85kj0d3_n66z9ht0xg7r0000gn/T/ipykernel_4400/4047921949.py:1: FutureWarning: The default value of regex will change from True to False in a future version. In addition, single character regular expressions will *not* be treated as literal strings when regex=True.\n",
      "  df[\"endpoint\"] = df[\"endpoint\"].str.replace('.', '')\n"
     ]
    }
   ],
   "source": [
    "df[\"endpoint\"] = df[\"endpoint\"].str.replace('.', '')"
   ]
  },
  {
   "cell_type": "code",
   "execution_count": 461,
   "id": "a78f65f8",
   "metadata": {},
   "outputs": [],
   "source": [
    "df[\"endpoint\"] = df[\"endpoint\"].str.replace('_', '')"
   ]
  },
  {
   "cell_type": "code",
   "execution_count": null,
   "id": "5f3145d3",
   "metadata": {},
   "outputs": [],
   "source": []
  },
  {
   "cell_type": "code",
   "execution_count": 462,
   "id": "b6ddb177",
   "metadata": {},
   "outputs": [
    {
     "data": {
      "text/plain": [
       "583"
      ]
     },
     "execution_count": 462,
     "metadata": {},
     "output_type": "execute_result"
    }
   ],
   "source": [
    "df.endpoint.nunique()"
   ]
  },
  {
   "cell_type": "code",
   "execution_count": 463,
   "id": "0657ffd2",
   "metadata": {},
   "outputs": [
    {
     "data": {
      "text/plain": [
       "130"
      ]
     },
     "execution_count": 463,
     "metadata": {},
     "output_type": "execute_result"
    }
   ],
   "source": [
    "(df.endpoint.value_counts() == 1).sum()"
   ]
  },
  {
   "cell_type": "code",
   "execution_count": 464,
   "id": "128af330",
   "metadata": {},
   "outputs": [
    {
     "data": {
      "text/plain": [
       "javascripti             118723\n",
       "htmlcss                  84935\n",
       "mysql                    82320\n",
       "jquery                   60869\n",
       "spring                   58603\n",
       "                         ...  \n",
       "filedat                      1\n",
       "ui                           1\n",
       "adacapsonteshtml             1\n",
       "statisticsassessment         1\n",
       "query                        1\n",
       "Name: endpoint, Length: 583, dtype: int64"
      ]
     },
     "execution_count": 464,
     "metadata": {},
     "output_type": "execute_result"
    }
   ],
   "source": [
    "df.endpoint.value_counts() "
   ]
  },
  {
   "cell_type": "code",
   "execution_count": 471,
   "id": "303a442e",
   "metadata": {},
   "outputs": [
    {
     "data": {
      "text/html": [
       "<div>\n",
       "<style scoped>\n",
       "    .dataframe tbody tr th:only-of-type {\n",
       "        vertical-align: middle;\n",
       "    }\n",
       "\n",
       "    .dataframe tbody tr th {\n",
       "        vertical-align: top;\n",
       "    }\n",
       "\n",
       "    .dataframe thead th {\n",
       "        text-align: right;\n",
       "    }\n",
       "</style>\n",
       "<table border=\"1\" class=\"dataframe\">\n",
       "  <thead>\n",
       "    <tr style=\"text-align: right;\">\n",
       "      <th></th>\n",
       "      <th>user_id</th>\n",
       "      <th>cohort_id</th>\n",
       "      <th>source_ip</th>\n",
       "      <th>day_of_week</th>\n",
       "    </tr>\n",
       "    <tr>\n",
       "      <th>endpoint</th>\n",
       "      <th></th>\n",
       "      <th></th>\n",
       "      <th></th>\n",
       "      <th></th>\n",
       "    </tr>\n",
       "  </thead>\n",
       "  <tbody>\n",
       "    <tr>\n",
       "      <th>wplogin</th>\n",
       "      <td>1</td>\n",
       "      <td>1</td>\n",
       "      <td>1</td>\n",
       "      <td>1</td>\n",
       "    </tr>\n",
       "    <tr>\n",
       "      <th>filedat</th>\n",
       "      <td>1</td>\n",
       "      <td>1</td>\n",
       "      <td>1</td>\n",
       "      <td>1</td>\n",
       "    </tr>\n",
       "    <tr>\n",
       "      <th>f</th>\n",
       "      <td>1</td>\n",
       "      <td>1</td>\n",
       "      <td>1</td>\n",
       "      <td>1</td>\n",
       "    </tr>\n",
       "    <tr>\n",
       "      <th>extraexercises</th>\n",
       "      <td>1</td>\n",
       "      <td>1</td>\n",
       "      <td>1</td>\n",
       "      <td>1</td>\n",
       "    </tr>\n",
       "    <tr>\n",
       "      <th>EndtoEndclustering</th>\n",
       "      <td>1</td>\n",
       "      <td>1</td>\n",
       "      <td>1</td>\n",
       "      <td>1</td>\n",
       "    </tr>\n",
       "    <tr>\n",
       "      <th>...</th>\n",
       "      <td>...</td>\n",
       "      <td>...</td>\n",
       "      <td>...</td>\n",
       "      <td>...</td>\n",
       "    </tr>\n",
       "    <tr>\n",
       "      <th>spring</th>\n",
       "      <td>58603</td>\n",
       "      <td>55481</td>\n",
       "      <td>58603</td>\n",
       "      <td>58603</td>\n",
       "    </tr>\n",
       "    <tr>\n",
       "      <th>jquery</th>\n",
       "      <td>60869</td>\n",
       "      <td>58317</td>\n",
       "      <td>60869</td>\n",
       "      <td>60869</td>\n",
       "    </tr>\n",
       "    <tr>\n",
       "      <th>mysql</th>\n",
       "      <td>82320</td>\n",
       "      <td>79416</td>\n",
       "      <td>82320</td>\n",
       "      <td>82320</td>\n",
       "    </tr>\n",
       "    <tr>\n",
       "      <th>htmlcss</th>\n",
       "      <td>84935</td>\n",
       "      <td>81490</td>\n",
       "      <td>84935</td>\n",
       "      <td>84935</td>\n",
       "    </tr>\n",
       "    <tr>\n",
       "      <th>javascripti</th>\n",
       "      <td>118723</td>\n",
       "      <td>113838</td>\n",
       "      <td>118723</td>\n",
       "      <td>118723</td>\n",
       "    </tr>\n",
       "  </tbody>\n",
       "</table>\n",
       "<p>583 rows × 4 columns</p>\n",
       "</div>"
      ],
      "text/plain": [
       "                    user_id  cohort_id  source_ip  day_of_week\n",
       "endpoint                                                      \n",
       "wplogin                   1          1          1            1\n",
       "filedat                   1          1          1            1\n",
       "f                         1          1          1            1\n",
       "extraexercises            1          1          1            1\n",
       "EndtoEndclustering        1          1          1            1\n",
       "...                     ...        ...        ...          ...\n",
       "spring                58603      55481      58603        58603\n",
       "jquery                60869      58317      60869        60869\n",
       "mysql                 82320      79416      82320        82320\n",
       "htmlcss               84935      81490      84935        84935\n",
       "javascripti          118723     113838     118723       118723\n",
       "\n",
       "[583 rows x 4 columns]"
      ]
     },
     "execution_count": 471,
     "metadata": {},
     "output_type": "execute_result"
    }
   ],
   "source": [
    "endpoint_counts = df.groupby('endpoint').count().sort_values('user_id')\n",
    "\n",
    "endpoint_counts"
   ]
  },
  {
   "cell_type": "code",
   "execution_count": 477,
   "id": "7ad1111c",
   "metadata": {},
   "outputs": [
    {
     "data": {
      "text/plain": [
       "47"
      ]
     },
     "execution_count": 477,
     "metadata": {},
     "output_type": "execute_result"
    }
   ],
   "source": [
    "df.cohort_id.nunique()"
   ]
  },
  {
   "cell_type": "code",
   "execution_count": 478,
   "id": "cf1b0342",
   "metadata": {},
   "outputs": [],
   "source": [
    "greater_than_47 = endpoint_counts[endpoint_counts.user_id > 47]"
   ]
  },
  {
   "cell_type": "code",
   "execution_count": 479,
   "id": "c7a6ed1a",
   "metadata": {},
   "outputs": [
    {
     "data": {
      "text/html": [
       "<div>\n",
       "<style scoped>\n",
       "    .dataframe tbody tr th:only-of-type {\n",
       "        vertical-align: middle;\n",
       "    }\n",
       "\n",
       "    .dataframe tbody tr th {\n",
       "        vertical-align: top;\n",
       "    }\n",
       "\n",
       "    .dataframe thead th {\n",
       "        text-align: right;\n",
       "    }\n",
       "</style>\n",
       "<table border=\"1\" class=\"dataframe\">\n",
       "  <thead>\n",
       "    <tr style=\"text-align: right;\">\n",
       "      <th></th>\n",
       "      <th>user_id</th>\n",
       "      <th>cohort_id</th>\n",
       "      <th>source_ip</th>\n",
       "      <th>day_of_week</th>\n",
       "    </tr>\n",
       "    <tr>\n",
       "      <th>endpoint</th>\n",
       "      <th></th>\n",
       "      <th></th>\n",
       "      <th></th>\n",
       "      <th></th>\n",
       "    </tr>\n",
       "  </thead>\n",
       "  <tbody>\n",
       "    <tr>\n",
       "      <th>filepaths</th>\n",
       "      <td>49</td>\n",
       "      <td>11</td>\n",
       "      <td>49</td>\n",
       "      <td>49</td>\n",
       "    </tr>\n",
       "    <tr>\n",
       "      <th>DBSCANtodetectanomaliesmd</th>\n",
       "      <td>49</td>\n",
       "      <td>1</td>\n",
       "      <td>49</td>\n",
       "      <td>49</td>\n",
       "    </tr>\n",
       "    <tr>\n",
       "      <th>listingfiles</th>\n",
       "      <td>49</td>\n",
       "      <td>10</td>\n",
       "      <td>49</td>\n",
       "      <td>49</td>\n",
       "    </tr>\n",
       "    <tr>\n",
       "      <th>BuildingAModel</th>\n",
       "      <td>50</td>\n",
       "      <td>5</td>\n",
       "      <td>50</td>\n",
       "      <td>50</td>\n",
       "    </tr>\n",
       "    <tr>\n",
       "      <th>opendata</th>\n",
       "      <td>51</td>\n",
       "      <td>11</td>\n",
       "      <td>51</td>\n",
       "      <td>51</td>\n",
       "    </tr>\n",
       "    <tr>\n",
       "      <th>intro</th>\n",
       "      <td>53</td>\n",
       "      <td>9</td>\n",
       "      <td>53</td>\n",
       "      <td>53</td>\n",
       "    </tr>\n",
       "    <tr>\n",
       "      <th>Understand</th>\n",
       "      <td>54</td>\n",
       "      <td>29</td>\n",
       "      <td>54</td>\n",
       "      <td>54</td>\n",
       "    </tr>\n",
       "    <tr>\n",
       "      <th>navigatingthefilesystem</th>\n",
       "      <td>55</td>\n",
       "      <td>11</td>\n",
       "      <td>55</td>\n",
       "      <td>55</td>\n",
       "    </tr>\n",
       "    <tr>\n",
       "      <th>Inspect</th>\n",
       "      <td>55</td>\n",
       "      <td>11</td>\n",
       "      <td>55</td>\n",
       "      <td>55</td>\n",
       "    </tr>\n",
       "    <tr>\n",
       "      <th>HTMLTemplates</th>\n",
       "      <td>56</td>\n",
       "      <td>5</td>\n",
       "      <td>56</td>\n",
       "      <td>56</td>\n",
       "    </tr>\n",
       "    <tr>\n",
       "      <th>VirtualEnvironments</th>\n",
       "      <td>57</td>\n",
       "      <td>6</td>\n",
       "      <td>57</td>\n",
       "      <td>57</td>\n",
       "    </tr>\n",
       "    <tr>\n",
       "      <th>login</th>\n",
       "      <td>57</td>\n",
       "      <td>53</td>\n",
       "      <td>57</td>\n",
       "      <td>57</td>\n",
       "    </tr>\n",
       "    <tr>\n",
       "      <th>IntrotoClassification</th>\n",
       "      <td>58</td>\n",
       "      <td>10</td>\n",
       "      <td>58</td>\n",
       "      <td>58</td>\n",
       "    </tr>\n",
       "    <tr>\n",
       "      <th>HTMLForms</th>\n",
       "      <td>58</td>\n",
       "      <td>5</td>\n",
       "      <td>58</td>\n",
       "      <td>58</td>\n",
       "    </tr>\n",
       "    <tr>\n",
       "      <th>elements</th>\n",
       "      <td>58</td>\n",
       "      <td>57</td>\n",
       "      <td>58</td>\n",
       "      <td>58</td>\n",
       "    </tr>\n",
       "    <tr>\n",
       "      <th>AIMLDLtimelinejpg</th>\n",
       "      <td>59</td>\n",
       "      <td>59</td>\n",
       "      <td>59</td>\n",
       "      <td>59</td>\n",
       "    </tr>\n",
       "    <tr>\n",
       "      <th>moderndatascientistjpg</th>\n",
       "      <td>59</td>\n",
       "      <td>59</td>\n",
       "      <td>59</td>\n",
       "      <td>59</td>\n",
       "    </tr>\n",
       "    <tr>\n",
       "      <th>FlaskIntro</th>\n",
       "      <td>62</td>\n",
       "      <td>6</td>\n",
       "      <td>62</td>\n",
       "      <td>62</td>\n",
       "    </tr>\n",
       "    <tr>\n",
       "      <th>databasedesign</th>\n",
       "      <td>63</td>\n",
       "      <td>10</td>\n",
       "      <td>63</td>\n",
       "      <td>63</td>\n",
       "    </tr>\n",
       "    <tr>\n",
       "      <th>ModelClassification</th>\n",
       "      <td>65</td>\n",
       "      <td>9</td>\n",
       "      <td>65</td>\n",
       "      <td>65</td>\n",
       "    </tr>\n",
       "    <tr>\n",
       "      <th>Regression</th>\n",
       "      <td>65</td>\n",
       "      <td>37</td>\n",
       "      <td>65</td>\n",
       "      <td>65</td>\n",
       "    </tr>\n",
       "    <tr>\n",
       "      <th>TidyData</th>\n",
       "      <td>67</td>\n",
       "      <td>26</td>\n",
       "      <td>67</td>\n",
       "      <td>67</td>\n",
       "    </tr>\n",
       "    <tr>\n",
       "      <th>Intromd</th>\n",
       "      <td>67</td>\n",
       "      <td>37</td>\n",
       "      <td>67</td>\n",
       "      <td>67</td>\n",
       "    </tr>\n",
       "    <tr>\n",
       "      <th>AnomalyDetection</th>\n",
       "      <td>68</td>\n",
       "      <td>23</td>\n",
       "      <td>68</td>\n",
       "      <td>68</td>\n",
       "    </tr>\n",
       "    <tr>\n",
       "      <th>NLP</th>\n",
       "      <td>69</td>\n",
       "      <td>23</td>\n",
       "      <td>69</td>\n",
       "      <td>69</td>\n",
       "    </tr>\n",
       "    <tr>\n",
       "      <th>AnomalyDetectionCartoonjpeg</th>\n",
       "      <td>69</td>\n",
       "      <td>11</td>\n",
       "      <td>69</td>\n",
       "      <td>69</td>\n",
       "    </tr>\n",
       "    <tr>\n",
       "      <th>DSLibrariesOverview</th>\n",
       "      <td>71</td>\n",
       "      <td>10</td>\n",
       "      <td>71</td>\n",
       "      <td>71</td>\n",
       "    </tr>\n",
       "    <tr>\n",
       "      <th>DBSCANtodetectanomalies</th>\n",
       "      <td>73</td>\n",
       "      <td>2</td>\n",
       "      <td>73</td>\n",
       "      <td>73</td>\n",
       "    </tr>\n",
       "    <tr>\n",
       "      <th>Tableau</th>\n",
       "      <td>73</td>\n",
       "      <td>30</td>\n",
       "      <td>73</td>\n",
       "      <td>73</td>\n",
       "    </tr>\n",
       "    <tr>\n",
       "      <th>moretopics</th>\n",
       "      <td>75</td>\n",
       "      <td>7</td>\n",
       "      <td>75</td>\n",
       "      <td>75</td>\n",
       "    </tr>\n",
       "    <tr>\n",
       "      <th>EnvironmentSetup</th>\n",
       "      <td>76</td>\n",
       "      <td>8</td>\n",
       "      <td>76</td>\n",
       "      <td>76</td>\n",
       "    </tr>\n",
       "    <tr>\n",
       "      <th>creatingfilesanddirectories</th>\n",
       "      <td>76</td>\n",
       "      <td>10</td>\n",
       "      <td>76</td>\n",
       "      <td>76</td>\n",
       "    </tr>\n",
       "    <tr>\n",
       "      <th>AcquireWebScraping</th>\n",
       "      <td>77</td>\n",
       "      <td>28</td>\n",
       "      <td>77</td>\n",
       "      <td>77</td>\n",
       "    </tr>\n",
       "    <tr>\n",
       "      <th>movingfiles</th>\n",
       "      <td>78</td>\n",
       "      <td>7</td>\n",
       "      <td>78</td>\n",
       "      <td>78</td>\n",
       "    </tr>\n",
       "    <tr>\n",
       "      <th>ClassificationAcquireData</th>\n",
       "      <td>78</td>\n",
       "      <td>11</td>\n",
       "      <td>78</td>\n",
       "      <td>78</td>\n",
       "    </tr>\n",
       "    <tr>\n",
       "      <th>relationshipsoverview</th>\n",
       "      <td>81</td>\n",
       "      <td>5</td>\n",
       "      <td>81</td>\n",
       "      <td>81</td>\n",
       "    </tr>\n",
       "    <tr>\n",
       "      <th>capstones</th>\n",
       "      <td>85</td>\n",
       "      <td>85</td>\n",
       "      <td>85</td>\n",
       "      <td>85</td>\n",
       "    </tr>\n",
       "    <tr>\n",
       "      <th>individualproject</th>\n",
       "      <td>91</td>\n",
       "      <td>91</td>\n",
       "      <td>91</td>\n",
       "      <td>91</td>\n",
       "    </tr>\n",
       "    <tr>\n",
       "      <th>GettingStarted</th>\n",
       "      <td>94</td>\n",
       "      <td>9</td>\n",
       "      <td>94</td>\n",
       "      <td>94</td>\n",
       "    </tr>\n",
       "    <tr>\n",
       "      <th>introductiontonumpy</th>\n",
       "      <td>95</td>\n",
       "      <td>18</td>\n",
       "      <td>95</td>\n",
       "      <td>95</td>\n",
       "    </tr>\n",
       "    <tr>\n",
       "      <th>githubrepolanguagegif</th>\n",
       "      <td>98</td>\n",
       "      <td>4</td>\n",
       "      <td>98</td>\n",
       "      <td>98</td>\n",
       "    </tr>\n",
       "  </tbody>\n",
       "</table>\n",
       "</div>"
      ],
      "text/plain": [
       "                             user_id  cohort_id  source_ip  day_of_week\n",
       "endpoint                                                               \n",
       "filepaths                         49         11         49           49\n",
       "DBSCANtodetectanomaliesmd         49          1         49           49\n",
       "listingfiles                      49         10         49           49\n",
       "BuildingAModel                    50          5         50           50\n",
       "opendata                          51         11         51           51\n",
       "intro                             53          9         53           53\n",
       "Understand                        54         29         54           54\n",
       "navigatingthefilesystem           55         11         55           55\n",
       "Inspect                           55         11         55           55\n",
       "HTMLTemplates                     56          5         56           56\n",
       "VirtualEnvironments               57          6         57           57\n",
       "login                             57         53         57           57\n",
       "IntrotoClassification             58         10         58           58\n",
       "HTMLForms                         58          5         58           58\n",
       "elements                          58         57         58           58\n",
       "AIMLDLtimelinejpg                 59         59         59           59\n",
       "moderndatascientistjpg            59         59         59           59\n",
       "FlaskIntro                        62          6         62           62\n",
       "databasedesign                    63         10         63           63\n",
       "ModelClassification               65          9         65           65\n",
       "Regression                        65         37         65           65\n",
       "TidyData                          67         26         67           67\n",
       "Intromd                           67         37         67           67\n",
       "AnomalyDetection                  68         23         68           68\n",
       "NLP                               69         23         69           69\n",
       "AnomalyDetectionCartoonjpeg       69         11         69           69\n",
       "DSLibrariesOverview               71         10         71           71\n",
       "DBSCANtodetectanomalies           73          2         73           73\n",
       "Tableau                           73         30         73           73\n",
       "moretopics                        75          7         75           75\n",
       "EnvironmentSetup                  76          8         76           76\n",
       "creatingfilesanddirectories       76         10         76           76\n",
       "AcquireWebScraping                77         28         77           77\n",
       "movingfiles                       78          7         78           78\n",
       "ClassificationAcquireData         78         11         78           78\n",
       "relationshipsoverview             81          5         81           81\n",
       "capstones                         85         85         85           85\n",
       "individualproject                 91         91         91           91\n",
       "GettingStarted                    94          9         94           94\n",
       "introductiontonumpy               95         18         95           95\n",
       "githubrepolanguagegif             98          4         98           98"
      ]
     },
     "execution_count": 479,
     "metadata": {},
     "output_type": "execute_result"
    }
   ],
   "source": [
    "greater_than_47[greater_than_47.user_id < 100]"
   ]
  },
  {
   "cell_type": "markdown",
   "id": "ec0c47c4",
   "metadata": {},
   "source": [
    "#### To answer this question, I identified the value counts of all endpoints in the provided dataset. Out of 2313 unique endpoints, I found there were 457 instances where the end point was only accessed a single time. I edited this column to remove any text in the string after and including a “/” in an effort to isolate the data by lesson. I was then left with 755 unique endpoints, with 178 being accessed only once. There is no clear indication of what is a lesson or what is some other page a user ended up on based on the endpoint. However, I can be confident that if the endpoint was accessed less than the number of unique cohorts, it is likely not a lesson within the curriculum. When I filter out results where the endpoint was accessed less than 47 times,  and no more than 100, I’m left with a list of endpoints where there are clearly some lesson names to answer this question. I believe based on the data provided that the lessons least accessed are file paths, Intro to Classification, and HTML Forms. For full transparency, I am only concluding these results based on the .txt file provided that certainly lacks verbosity. I do not have much information to decipher from this data which of the endpoints are actually lessons. "
   ]
  },
  {
   "cell_type": "code",
   "execution_count": null,
   "id": "ec3da218",
   "metadata": {},
   "outputs": [],
   "source": []
  }
 ],
 "metadata": {
  "kernelspec": {
   "display_name": "Python 3 (ipykernel)",
   "language": "python",
   "name": "python3"
  },
  "language_info": {
   "codemirror_mode": {
    "name": "ipython",
    "version": 3
   },
   "file_extension": ".py",
   "mimetype": "text/x-python",
   "name": "python",
   "nbconvert_exporter": "python",
   "pygments_lexer": "ipython3",
   "version": "3.9.13"
  }
 },
 "nbformat": 4,
 "nbformat_minor": 5
}
