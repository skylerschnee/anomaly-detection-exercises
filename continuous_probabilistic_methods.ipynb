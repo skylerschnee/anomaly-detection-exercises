{
 "cells": [
  {
   "cell_type": "markdown",
   "id": "f5ab1570",
   "metadata": {},
   "source": [
    "# Exercises"
   ]
  },
  {
   "cell_type": "code",
   "execution_count": 1,
   "id": "6afbdfa5",
   "metadata": {},
   "outputs": [],
   "source": [
    "import pandas as pd\n",
    "import numpy as np\n",
    "import matplotlib.pyplot as plt"
   ]
  },
  {
   "cell_type": "code",
   "execution_count": 2,
   "id": "59a50112",
   "metadata": {},
   "outputs": [],
   "source": [
    "url = 'https://gist.githubusercontent.com/ryanorsinger/19bc7eccd6279661bd13307026628ace/raw/e4b5d6787015a4782f96cad6d1d62a8bdbac54c7/lemonade.csv'\n",
    "# let's grab this dataset described in the url\n",
    "df = pd.read_csv(url)"
   ]
  },
  {
   "cell_type": "code",
   "execution_count": 3,
   "id": "19626e47",
   "metadata": {},
   "outputs": [
    {
     "data": {
      "text/html": [
       "<div>\n",
       "<style scoped>\n",
       "    .dataframe tbody tr th:only-of-type {\n",
       "        vertical-align: middle;\n",
       "    }\n",
       "\n",
       "    .dataframe tbody tr th {\n",
       "        vertical-align: top;\n",
       "    }\n",
       "\n",
       "    .dataframe thead th {\n",
       "        text-align: right;\n",
       "    }\n",
       "</style>\n",
       "<table border=\"1\" class=\"dataframe\">\n",
       "  <thead>\n",
       "    <tr style=\"text-align: right;\">\n",
       "      <th></th>\n",
       "      <th>Date</th>\n",
       "      <th>Day</th>\n",
       "      <th>Temperature</th>\n",
       "      <th>Rainfall</th>\n",
       "      <th>Flyers</th>\n",
       "      <th>Price</th>\n",
       "      <th>Sales</th>\n",
       "    </tr>\n",
       "  </thead>\n",
       "  <tbody>\n",
       "    <tr>\n",
       "      <th>0</th>\n",
       "      <td>1/1/17</td>\n",
       "      <td>Sunday</td>\n",
       "      <td>27.0</td>\n",
       "      <td>2.00</td>\n",
       "      <td>15</td>\n",
       "      <td>0.5</td>\n",
       "      <td>10</td>\n",
       "    </tr>\n",
       "    <tr>\n",
       "      <th>1</th>\n",
       "      <td>1/2/17</td>\n",
       "      <td>Monday</td>\n",
       "      <td>28.9</td>\n",
       "      <td>1.33</td>\n",
       "      <td>15</td>\n",
       "      <td>0.5</td>\n",
       "      <td>13</td>\n",
       "    </tr>\n",
       "    <tr>\n",
       "      <th>2</th>\n",
       "      <td>1/3/17</td>\n",
       "      <td>Tuesday</td>\n",
       "      <td>34.5</td>\n",
       "      <td>1.33</td>\n",
       "      <td>27</td>\n",
       "      <td>0.5</td>\n",
       "      <td>15</td>\n",
       "    </tr>\n",
       "    <tr>\n",
       "      <th>3</th>\n",
       "      <td>1/4/17</td>\n",
       "      <td>Wednesday</td>\n",
       "      <td>44.1</td>\n",
       "      <td>1.05</td>\n",
       "      <td>28</td>\n",
       "      <td>0.5</td>\n",
       "      <td>17</td>\n",
       "    </tr>\n",
       "    <tr>\n",
       "      <th>4</th>\n",
       "      <td>1/5/17</td>\n",
       "      <td>Thursday</td>\n",
       "      <td>42.4</td>\n",
       "      <td>1.00</td>\n",
       "      <td>33</td>\n",
       "      <td>0.5</td>\n",
       "      <td>18</td>\n",
       "    </tr>\n",
       "  </tbody>\n",
       "</table>\n",
       "</div>"
      ],
      "text/plain": [
       "     Date        Day  Temperature  Rainfall  Flyers  Price  Sales\n",
       "0  1/1/17     Sunday         27.0      2.00      15    0.5     10\n",
       "1  1/2/17     Monday         28.9      1.33      15    0.5     13\n",
       "2  1/3/17    Tuesday         34.5      1.33      27    0.5     15\n",
       "3  1/4/17  Wednesday         44.1      1.05      28    0.5     17\n",
       "4  1/5/17   Thursday         42.4      1.00      33    0.5     18"
      ]
     },
     "execution_count": 3,
     "metadata": {},
     "output_type": "execute_result"
    }
   ],
   "source": [
    "df.head()"
   ]
  },
  {
   "cell_type": "code",
   "execution_count": 4,
   "id": "04ab7201",
   "metadata": {},
   "outputs": [
    {
     "name": "stdout",
     "output_type": "stream",
     "text": [
      "<class 'pandas.core.frame.DataFrame'>\n",
      "RangeIndex: 365 entries, 0 to 364\n",
      "Data columns (total 7 columns):\n",
      " #   Column       Non-Null Count  Dtype  \n",
      "---  ------       --------------  -----  \n",
      " 0   Date         365 non-null    object \n",
      " 1   Day          365 non-null    object \n",
      " 2   Temperature  365 non-null    float64\n",
      " 3   Rainfall     365 non-null    float64\n",
      " 4   Flyers       365 non-null    int64  \n",
      " 5   Price        365 non-null    float64\n",
      " 6   Sales        365 non-null    int64  \n",
      "dtypes: float64(3), int64(2), object(2)\n",
      "memory usage: 20.1+ KB\n"
     ]
    }
   ],
   "source": [
    "df.info()"
   ]
  },
  {
   "cell_type": "code",
   "execution_count": 5,
   "id": "a05bbbec",
   "metadata": {},
   "outputs": [
    {
     "data": {
      "text/html": [
       "<div>\n",
       "<style scoped>\n",
       "    .dataframe tbody tr th:only-of-type {\n",
       "        vertical-align: middle;\n",
       "    }\n",
       "\n",
       "    .dataframe tbody tr th {\n",
       "        vertical-align: top;\n",
       "    }\n",
       "\n",
       "    .dataframe thead th {\n",
       "        text-align: right;\n",
       "    }\n",
       "</style>\n",
       "<table border=\"1\" class=\"dataframe\">\n",
       "  <thead>\n",
       "    <tr style=\"text-align: right;\">\n",
       "      <th></th>\n",
       "      <th>Temperature</th>\n",
       "      <th>Rainfall</th>\n",
       "      <th>Flyers</th>\n",
       "      <th>Price</th>\n",
       "      <th>Sales</th>\n",
       "    </tr>\n",
       "  </thead>\n",
       "  <tbody>\n",
       "    <tr>\n",
       "      <th>count</th>\n",
       "      <td>365.000000</td>\n",
       "      <td>365.000000</td>\n",
       "      <td>365.000000</td>\n",
       "      <td>365.0</td>\n",
       "      <td>365.000000</td>\n",
       "    </tr>\n",
       "    <tr>\n",
       "      <th>mean</th>\n",
       "      <td>61.224658</td>\n",
       "      <td>0.825973</td>\n",
       "      <td>40.104110</td>\n",
       "      <td>0.5</td>\n",
       "      <td>27.865753</td>\n",
       "    </tr>\n",
       "    <tr>\n",
       "      <th>std</th>\n",
       "      <td>18.085892</td>\n",
       "      <td>0.273890</td>\n",
       "      <td>13.786445</td>\n",
       "      <td>0.0</td>\n",
       "      <td>30.948132</td>\n",
       "    </tr>\n",
       "    <tr>\n",
       "      <th>min</th>\n",
       "      <td>15.100000</td>\n",
       "      <td>0.400000</td>\n",
       "      <td>-38.000000</td>\n",
       "      <td>0.5</td>\n",
       "      <td>7.000000</td>\n",
       "    </tr>\n",
       "    <tr>\n",
       "      <th>25%</th>\n",
       "      <td>49.700000</td>\n",
       "      <td>0.650000</td>\n",
       "      <td>31.000000</td>\n",
       "      <td>0.5</td>\n",
       "      <td>20.000000</td>\n",
       "    </tr>\n",
       "    <tr>\n",
       "      <th>50%</th>\n",
       "      <td>61.100000</td>\n",
       "      <td>0.740000</td>\n",
       "      <td>39.000000</td>\n",
       "      <td>0.5</td>\n",
       "      <td>25.000000</td>\n",
       "    </tr>\n",
       "    <tr>\n",
       "      <th>75%</th>\n",
       "      <td>71.700000</td>\n",
       "      <td>0.910000</td>\n",
       "      <td>49.000000</td>\n",
       "      <td>0.5</td>\n",
       "      <td>30.000000</td>\n",
       "    </tr>\n",
       "    <tr>\n",
       "      <th>max</th>\n",
       "      <td>212.000000</td>\n",
       "      <td>2.500000</td>\n",
       "      <td>80.000000</td>\n",
       "      <td>0.5</td>\n",
       "      <td>534.000000</td>\n",
       "    </tr>\n",
       "  </tbody>\n",
       "</table>\n",
       "</div>"
      ],
      "text/plain": [
       "       Temperature    Rainfall      Flyers  Price       Sales\n",
       "count   365.000000  365.000000  365.000000  365.0  365.000000\n",
       "mean     61.224658    0.825973   40.104110    0.5   27.865753\n",
       "std      18.085892    0.273890   13.786445    0.0   30.948132\n",
       "min      15.100000    0.400000  -38.000000    0.5    7.000000\n",
       "25%      49.700000    0.650000   31.000000    0.5   20.000000\n",
       "50%      61.100000    0.740000   39.000000    0.5   25.000000\n",
       "75%      71.700000    0.910000   49.000000    0.5   30.000000\n",
       "max     212.000000    2.500000   80.000000    0.5  534.000000"
      ]
     },
     "execution_count": 5,
     "metadata": {},
     "output_type": "execute_result"
    }
   ],
   "source": [
    "df.describe()"
   ]
  },
  {
   "cell_type": "code",
   "execution_count": 7,
   "id": "1f142b16",
   "metadata": {},
   "outputs": [
    {
     "data": {
      "text/plain": [
       "Index(['date', 'day', 'temperature', 'rainfall', 'flyers', 'price', 'sales'], dtype='object')"
      ]
     },
     "execution_count": 7,
     "metadata": {},
     "output_type": "execute_result"
    }
   ],
   "source": [
    "df.columns = [col.lower() for col in df.columns]\n",
    "df.columns"
   ]
  },
  {
   "cell_type": "markdown",
   "id": "8d4cdfb0",
   "metadata": {},
   "source": [
    "## Define a function named get_lower_and_upper_bounds that has two arguments. The first argument is a pandas Series. The second argument is the multiplier, which should have a default argument of 1.5."
   ]
  },
  {
   "cell_type": "code",
   "execution_count": 8,
   "id": "ae41ed3c",
   "metadata": {},
   "outputs": [],
   "source": [
    "def get_fences(df, col, k=1.5):\n",
    "    '''\n",
    "    get_fences takes in a dataframe and a string literal\n",
    "    df, a pandas dataframe\n",
    "    k, an integer representing the fence for our method\n",
    "    col, a string literal represening a column name\n",
    "    returns the lower and upper fences of a series\n",
    "    '''\n",
    "    q1 = df[col].quantile(.25)\n",
    "    q3 = df[col].quantile(.75)\n",
    "    iqr = q3 - q1\n",
    "    lower_fence = q1 - iqr*k\n",
    "    upper_fence = q3 + iqr*k\n",
    "    return lower_fence, upper_fence"
   ]
  },
  {
   "cell_type": "markdown",
   "id": "a8b6ed5a",
   "metadata": {},
   "source": [
    "## Using lemonade.csv dataset and focusing on continuous variables:"
   ]
  },
  {
   "cell_type": "markdown",
   "id": "2f84d0a3",
   "metadata": {},
   "source": [
    "#### Use the IQR Range Rule and the upper and lower bounds to identify the lower outliers of each column of lemonade.csv, using the multiplier of 1.5. Do these lower outliers make sense? Which outliers should be kept?"
   ]
  },
  {
   "cell_type": "code",
   "execution_count": 11,
   "id": "68b6e0f6",
   "metadata": {},
   "outputs": [],
   "source": [
    "numeric_cols = ['temperature','rainfall','flyers','price', 'sales']\n",
    "my_fences = {}\n",
    "for col in df[numeric_cols]:\n",
    "    my_fences[col] = get_fences(df,col,k=1.5)"
   ]
  },
  {
   "cell_type": "code",
   "execution_count": 14,
   "id": "26c96e6e",
   "metadata": {},
   "outputs": [
    {
     "data": {
      "text/plain": [
       "{'temperature': (16.700000000000003, 104.7),\n",
       " 'rainfall': (0.26, 1.3),\n",
       " 'flyers': (4.0, 76.0),\n",
       " 'price': (0.5, 0.5),\n",
       " 'sales': (5.0, 45.0)}"
      ]
     },
     "execution_count": 14,
     "metadata": {},
     "output_type": "execute_result"
    }
   ],
   "source": [
    "my_fences"
   ]
  },
  {
   "cell_type": "code",
   "execution_count": 27,
   "id": "32743662",
   "metadata": {},
   "outputs": [
    {
     "data": {
      "text/plain": [
       "False    364\n",
       "True       1\n",
       "Name: temperature, dtype: int64"
      ]
     },
     "execution_count": 27,
     "metadata": {},
     "output_type": "execute_result"
    }
   ],
   "source": [
    "(df.temperature < 16.7).value_counts()"
   ]
  },
  {
   "cell_type": "code",
   "execution_count": 18,
   "id": "cab91571",
   "metadata": {},
   "outputs": [
    {
     "data": {
      "text/plain": [
       "185    0.40\n",
       "181    0.47\n",
       "207    0.47\n",
       "166    0.47\n",
       "202    0.47\n",
       "Name: rainfall, dtype: float64"
      ]
     },
     "execution_count": 18,
     "metadata": {},
     "output_type": "execute_result"
    }
   ],
   "source": [
    "df.rainfall.sort_values().head()"
   ]
  },
  {
   "cell_type": "code",
   "execution_count": 17,
   "id": "e2b98205",
   "metadata": {},
   "outputs": [
    {
     "data": {
      "text/plain": [
       "324   -38\n",
       "364     9\n",
       "338    11\n",
       "343    15\n",
       "27     15\n",
       "Name: flyers, dtype: int64"
      ]
     },
     "execution_count": 17,
     "metadata": {},
     "output_type": "execute_result"
    }
   ],
   "source": [
    "df.flyers.sort_values().head()"
   ]
  },
  {
   "cell_type": "code",
   "execution_count": 23,
   "id": "4637361c",
   "metadata": {},
   "outputs": [
    {
     "data": {
      "text/plain": [
       "False    365\n",
       "Name: sales, dtype: int64"
      ]
     },
     "execution_count": 23,
     "metadata": {},
     "output_type": "execute_result"
    }
   ],
   "source": [
    "(df.sales < 5).value_counts()"
   ]
  },
  {
   "cell_type": "markdown",
   "id": "61340b78",
   "metadata": {},
   "source": [
    "- The lower **temperature** outlier fence does seem to be a good anomoly indicator, **I would remove the single outlier below this outlier fence**\n",
    "\n",
    "- The lower **rainfall** outlier fence is not a good anomoly indicator unless this dataset was built specifically to analyze lemonade sales on rainy days. This is a posibility because there are 0 days without rain in this dataset. I will side with caution and **not remove these,** conveniently, there are no values here that low anyways. \n",
    "\n",
    "\n",
    "- The lower **flyers** outlier fence does seem to be a a good anomoly indicator, as the std dev for this feature is relatively low, and the 25th percetile of that feature is over 7x the value of this lower outlier fence value of 4. When observing the sorted values of the feature, we see a -38 value- not sure how you can distribute a negative number of flyers! **I would remove lower outliers here.**  \n",
    "\n",
    "\n",
    "- The lower **price** outlier fence is not a a good anomoly indicator at all, the price value is unchanged throughout the entire dataset - **I would not remove these.**\n",
    "\n",
    "\n",
    "- The lower **sales** outlier fence does seem to be a good anomoly indicator, however I dont feel comfortable removing this feature  as the standard deviation for this feature is greater than the mean, and a negative value for this feature is nonsensical. **I would not remove these.**"
   ]
  },
  {
   "cell_type": "markdown",
   "id": "80c80a6b",
   "metadata": {},
   "source": [
    "#### Use the IQR Range Rule and the upper and lower bounds to identify the upper outliers of each column of lemonade.csv, using the multiplier of 1.5. Do these upper outliers make sense? Which outliers should be kept?"
   ]
  },
  {
   "cell_type": "code",
   "execution_count": 29,
   "id": "f663aec6",
   "metadata": {},
   "outputs": [
    {
     "data": {
      "text/html": [
       "<div>\n",
       "<style scoped>\n",
       "    .dataframe tbody tr th:only-of-type {\n",
       "        vertical-align: middle;\n",
       "    }\n",
       "\n",
       "    .dataframe tbody tr th {\n",
       "        vertical-align: top;\n",
       "    }\n",
       "\n",
       "    .dataframe thead th {\n",
       "        text-align: right;\n",
       "    }\n",
       "</style>\n",
       "<table border=\"1\" class=\"dataframe\">\n",
       "  <thead>\n",
       "    <tr style=\"text-align: right;\">\n",
       "      <th></th>\n",
       "      <th>temperature</th>\n",
       "      <th>rainfall</th>\n",
       "      <th>flyers</th>\n",
       "      <th>price</th>\n",
       "      <th>sales</th>\n",
       "    </tr>\n",
       "  </thead>\n",
       "  <tbody>\n",
       "    <tr>\n",
       "      <th>count</th>\n",
       "      <td>365.000000</td>\n",
       "      <td>365.000000</td>\n",
       "      <td>365.000000</td>\n",
       "      <td>365.0</td>\n",
       "      <td>365.000000</td>\n",
       "    </tr>\n",
       "    <tr>\n",
       "      <th>mean</th>\n",
       "      <td>61.224658</td>\n",
       "      <td>0.825973</td>\n",
       "      <td>40.104110</td>\n",
       "      <td>0.5</td>\n",
       "      <td>27.865753</td>\n",
       "    </tr>\n",
       "    <tr>\n",
       "      <th>std</th>\n",
       "      <td>18.085892</td>\n",
       "      <td>0.273890</td>\n",
       "      <td>13.786445</td>\n",
       "      <td>0.0</td>\n",
       "      <td>30.948132</td>\n",
       "    </tr>\n",
       "    <tr>\n",
       "      <th>min</th>\n",
       "      <td>15.100000</td>\n",
       "      <td>0.400000</td>\n",
       "      <td>-38.000000</td>\n",
       "      <td>0.5</td>\n",
       "      <td>7.000000</td>\n",
       "    </tr>\n",
       "    <tr>\n",
       "      <th>25%</th>\n",
       "      <td>49.700000</td>\n",
       "      <td>0.650000</td>\n",
       "      <td>31.000000</td>\n",
       "      <td>0.5</td>\n",
       "      <td>20.000000</td>\n",
       "    </tr>\n",
       "    <tr>\n",
       "      <th>50%</th>\n",
       "      <td>61.100000</td>\n",
       "      <td>0.740000</td>\n",
       "      <td>39.000000</td>\n",
       "      <td>0.5</td>\n",
       "      <td>25.000000</td>\n",
       "    </tr>\n",
       "    <tr>\n",
       "      <th>75%</th>\n",
       "      <td>71.700000</td>\n",
       "      <td>0.910000</td>\n",
       "      <td>49.000000</td>\n",
       "      <td>0.5</td>\n",
       "      <td>30.000000</td>\n",
       "    </tr>\n",
       "    <tr>\n",
       "      <th>max</th>\n",
       "      <td>212.000000</td>\n",
       "      <td>2.500000</td>\n",
       "      <td>80.000000</td>\n",
       "      <td>0.5</td>\n",
       "      <td>534.000000</td>\n",
       "    </tr>\n",
       "  </tbody>\n",
       "</table>\n",
       "</div>"
      ],
      "text/plain": [
       "       temperature    rainfall      flyers  price       sales\n",
       "count   365.000000  365.000000  365.000000  365.0  365.000000\n",
       "mean     61.224658    0.825973   40.104110    0.5   27.865753\n",
       "std      18.085892    0.273890   13.786445    0.0   30.948132\n",
       "min      15.100000    0.400000  -38.000000    0.5    7.000000\n",
       "25%      49.700000    0.650000   31.000000    0.5   20.000000\n",
       "50%      61.100000    0.740000   39.000000    0.5   25.000000\n",
       "75%      71.700000    0.910000   49.000000    0.5   30.000000\n",
       "max     212.000000    2.500000   80.000000    0.5  534.000000"
      ]
     },
     "execution_count": 29,
     "metadata": {},
     "output_type": "execute_result"
    }
   ],
   "source": [
    "df.describe()"
   ]
  },
  {
   "cell_type": "code",
   "execution_count": 28,
   "id": "5974ae4f",
   "metadata": {},
   "outputs": [
    {
     "data": {
      "text/plain": [
       "{'temperature': (16.700000000000003, 104.7),\n",
       " 'rainfall': (0.26, 1.3),\n",
       " 'flyers': (4.0, 76.0),\n",
       " 'price': (0.5, 0.5),\n",
       " 'sales': (5.0, 45.0)}"
      ]
     },
     "execution_count": 28,
     "metadata": {},
     "output_type": "execute_result"
    }
   ],
   "source": [
    "my_fences"
   ]
  },
  {
   "cell_type": "code",
   "execution_count": 37,
   "id": "79facf0f",
   "metadata": {},
   "outputs": [
    {
     "data": {
      "text/plain": [
       "184    534\n",
       "183    235\n",
       "182    158\n",
       "181    143\n",
       "207     43\n",
       "      ... \n",
       "5       11\n",
       "343     11\n",
       "0       10\n",
       "338     10\n",
       "364      7\n",
       "Name: sales, Length: 365, dtype: int64"
      ]
     },
     "execution_count": 37,
     "metadata": {},
     "output_type": "execute_result"
    }
   ],
   "source": [
    "df.sales.sort_values(ascending=False)"
   ]
  },
  {
   "cell_type": "markdown",
   "id": "1a369c44",
   "metadata": {},
   "source": [
    "- The upper **temperature** outlier fence looks like a very comfortable place to identify anomolous values, as there seems to be at least 1 erroneous value here with a tempurture of 212 degrees. **I would remove that outlier** \n",
    "\n",
    "\n",
    "- The upper **rainfall** outlier fence does not seem like a good identifier of anomolous values, as almost 10% of the dataset contains rainfalls values beyond that. **I would not remove these**\n",
    "\n",
    "\n",
    "- The upper **flyers** outlier fence looks like a pretty reasonable place to identify anomolies. Only 2 days of the year we're that many flyers handed out. **I would remove outliers here.**  \n",
    "\n",
    "\n",
    "- The upper **price** outlier fence is still not a identifier of anomoly, price is consistant ant that value throughout.  **I would (obviously) not remove these.**\n",
    "\n",
    "\n",
    "- The upper **sales** outlier fence looks like a comfortable place to identify anolous values. Only 4 days of the year had sales figures above that line, and those values are WAY above that line **I would remove these.**"
   ]
  },
  {
   "cell_type": "markdown",
   "id": "a98bdac8",
   "metadata": {},
   "source": [
    "#### Using the multiplier of 3, IQR Range Rule, and the lower bounds, identify the outliers below the lower bound in each colum of lemonade.csv. Do these lower outliers make sense? Which outliers should be kept?"
   ]
  },
  {
   "cell_type": "code",
   "execution_count": 38,
   "id": "c88e7c58",
   "metadata": {},
   "outputs": [],
   "source": [
    "numeric_cols = ['temperature','rainfall','flyers','price', 'sales']\n",
    "my_fences = {}\n",
    "for col in df[numeric_cols]:\n",
    "    my_fences[col] = get_fences(df,col,k=3)"
   ]
  },
  {
   "cell_type": "code",
   "execution_count": 39,
   "id": "911514c4",
   "metadata": {},
   "outputs": [
    {
     "data": {
      "text/plain": [
       "{'temperature': (-16.299999999999997, 137.7),\n",
       " 'rainfall': (-0.13, 1.69),\n",
       " 'flyers': (-23.0, 103.0),\n",
       " 'price': (0.5, 0.5),\n",
       " 'sales': (-10.0, 60.0)}"
      ]
     },
     "execution_count": 39,
     "metadata": {},
     "output_type": "execute_result"
    }
   ],
   "source": [
    "my_fences"
   ]
  },
  {
   "cell_type": "markdown",
   "id": "ba2477a1",
   "metadata": {},
   "source": [
    "- None of these make sense. "
   ]
  },
  {
   "cell_type": "markdown",
   "id": "760018c4",
   "metadata": {},
   "source": [
    "#### Using the multiplier of 3, IQR Range Rule, and the upper bounds, identify the outliers above the upper_bound in each colum of lemonade.csv. Do these upper outliers make sense? Which outliers should be kept?"
   ]
  },
  {
   "cell_type": "markdown",
   "id": "507def99",
   "metadata": {},
   "source": [
    "- None of these make sense. "
   ]
  },
  {
   "cell_type": "markdown",
   "id": "d6216e3c",
   "metadata": {},
   "source": [
    "## Identify if any columns in lemonade.csv are normally distributed. For normally distributed columns:"
   ]
  },
  {
   "cell_type": "markdown",
   "id": "44e39d5c",
   "metadata": {},
   "source": [
    "### Use a 2 sigma decision rule to isolate the outliers"
   ]
  },
  {
   "cell_type": "code",
   "execution_count": 44,
   "id": "440b85d2",
   "metadata": {},
   "outputs": [
    {
     "data": {
      "image/png": "[encoded data removed]",
      "text/plain": [
       "<Figure size 640x480 with 1 Axes>"
      ]
     },
     "metadata": {},
     "output_type": "display_data"
    },
    {
     "data": {
      "image/png": "[encoded data removed]",
      "text/plain": [
       "<Figure size 640x480 with 1 Axes>"
      ]
     },
     "metadata": {},
     "output_type": "display_data"
    },
    {
     "data": {
      "image/png": "[encoded data removed]",
      "text/plain": [
       "<Figure size 640x480 with 1 Axes>"
      ]
     },
     "metadata": {},
     "output_type": "display_data"
    },
    {
     "data": {
      "image/png": "[encoded data removed]",
      "text/plain": [
       "<Figure size 640x480 with 1 Axes>"
      ]
     },
     "metadata": {},
     "output_type": "display_data"
    },
    {
     "data": {
      "image/png": "[encoded data removed]",
      "text/plain": [
       "<Figure size 640x480 with 1 Axes>"
      ]
     },
     "metadata": {},
     "output_type": "display_data"
    }
   ],
   "source": [
    "# brief visual analysis:\n",
    "for col in df[numeric_cols]:\n",
    "    df[col].hist()\n",
    "    plt.title(f'Distribution of {col}')\n",
    "    plt.show()"
   ]
  },
  {
   "cell_type": "code",
   "execution_count": 45,
   "id": "43f4122f",
   "metadata": {},
   "outputs": [],
   "source": [
    "normally_dist_cols = ['temperature','rainfall','flyers']\n",
    "my_fences = {}\n",
    "for col in df[normally_dist_cols]:\n",
    "    my_fences[col] = get_fences(df,col,k=2)"
   ]
  },
  {
   "cell_type": "code",
   "execution_count": 46,
   "id": "5edbda94",
   "metadata": {},
   "outputs": [
    {
     "data": {
      "text/plain": [
       "{'temperature': (5.700000000000003, 115.7),\n",
       " 'rainfall': (0.13, 1.4300000000000002),\n",
       " 'flyers': (-5.0, 85.0)}"
      ]
     },
     "execution_count": 46,
     "metadata": {},
     "output_type": "execute_result"
    }
   ],
   "source": [
    "my_fences"
   ]
  },
  {
   "cell_type": "markdown",
   "id": "b59e78bc",
   "metadata": {},
   "source": [
    "#### Do these make sense?"
   ]
  },
  {
   "cell_type": "markdown",
   "id": "9667e8a5",
   "metadata": {},
   "source": [
    "- No, I would not use this method to distinguish anomolies for this dataset"
   ]
  },
  {
   "cell_type": "markdown",
   "id": "57de1615",
   "metadata": {},
   "source": [
    "#### Should certain outliers be kept or removed?"
   ]
  },
  {
   "cell_type": "markdown",
   "id": "ed81ea9d",
   "metadata": {},
   "source": [
    "- Not using this method!"
   ]
  },
  {
   "cell_type": "markdown",
   "id": "26e9d243",
   "metadata": {},
   "source": [
    "## Now use a 3 sigma decision rule to isolate the outliers in the normally distributed columns from lemonade.csv"
   ]
  },
  {
   "cell_type": "code",
   "execution_count": 48,
   "id": "189dc8e2",
   "metadata": {},
   "outputs": [],
   "source": [
    "my_fences = {}\n",
    "for col in df[normally_dist_cols]:\n",
    "    my_fences[col] = get_fences(df,col,k=3)"
   ]
  },
  {
   "cell_type": "code",
   "execution_count": 50,
   "id": "c6f1617d",
   "metadata": {},
   "outputs": [
    {
     "data": {
      "text/plain": [
       "{'temperature': (-16.299999999999997, 137.7),\n",
       " 'rainfall': (-0.13, 1.69),\n",
       " 'flyers': (-23.0, 103.0)}"
      ]
     },
     "execution_count": 50,
     "metadata": {},
     "output_type": "execute_result"
    }
   ],
   "source": [
    "my_fences"
   ]
  }
 ],
 "metadata": {
  "kernelspec": {
   "display_name": "Python 3 (ipykernel)",
   "language": "python",
   "name": "python3"
  },
  "language_info": {
   "codemirror_mode": {
    "name": "ipython",
    "version": 3
   },
   "file_extension": ".py",
   "mimetype": "text/x-python",
   "name": "python",
   "nbconvert_exporter": "python",
   "pygments_lexer": "ipython3",
   "version": "3.9.13"
  }
 },
 "nbformat": 4,
 "nbformat_minor": 5
}
